{
  "nbformat": 4,
  "nbformat_minor": 0,
  "metadata": {
    "colab": {
      "provenance": [],
      "gpuType": "T4"
    },
    "kernelspec": {
      "name": "python3",
      "display_name": "Python 3"
    },
    "language_info": {
      "name": "python"
    },
    "accelerator": "GPU",
    "gpuClass": "standard",
    "widgets": {
      "application/vnd.jupyter.widget-state+json": {
        "2094ea4c668d4254855888b9363025d7": {
          "model_module": "@jupyter-widgets/controls",
          "model_name": "HBoxModel",
          "model_module_version": "1.5.0",
          "state": {
            "_dom_classes": [],
            "_model_module": "@jupyter-widgets/controls",
            "_model_module_version": "1.5.0",
            "_model_name": "HBoxModel",
            "_view_count": null,
            "_view_module": "@jupyter-widgets/controls",
            "_view_module_version": "1.5.0",
            "_view_name": "HBoxView",
            "box_style": "",
            "children": [
              "IPY_MODEL_70e3e72d663744e6a6d04471b4fa8e75",
              "IPY_MODEL_e046f8e3db754a04ba914a313405f68f",
              "IPY_MODEL_89542e0dcca144f68d5c53f5562b2dcc"
            ],
            "layout": "IPY_MODEL_ac56c59e2b63469da2d7fd8e8a33d322"
          }
        },
        "70e3e72d663744e6a6d04471b4fa8e75": {
          "model_module": "@jupyter-widgets/controls",
          "model_name": "HTMLModel",
          "model_module_version": "1.5.0",
          "state": {
            "_dom_classes": [],
            "_model_module": "@jupyter-widgets/controls",
            "_model_module_version": "1.5.0",
            "_model_name": "HTMLModel",
            "_view_count": null,
            "_view_module": "@jupyter-widgets/controls",
            "_view_module_version": "1.5.0",
            "_view_name": "HTMLView",
            "description": "",
            "description_tooltip": null,
            "layout": "IPY_MODEL_2f13d45d6f784746bc1166fd87d183c5",
            "placeholder": "​",
            "style": "IPY_MODEL_b16009212d7b4e3e98d595e8edd25fc0",
            "value": "Downloading (…)lve/main/config.json: 100%"
          }
        },
        "e046f8e3db754a04ba914a313405f68f": {
          "model_module": "@jupyter-widgets/controls",
          "model_name": "FloatProgressModel",
          "model_module_version": "1.5.0",
          "state": {
            "_dom_classes": [],
            "_model_module": "@jupyter-widgets/controls",
            "_model_module_version": "1.5.0",
            "_model_name": "FloatProgressModel",
            "_view_count": null,
            "_view_module": "@jupyter-widgets/controls",
            "_view_module_version": "1.5.0",
            "_view_name": "ProgressView",
            "bar_style": "success",
            "description": "",
            "description_tooltip": null,
            "layout": "IPY_MODEL_9b016f0a3f4e433d9835e7a207ad429f",
            "max": 481,
            "min": 0,
            "orientation": "horizontal",
            "style": "IPY_MODEL_3fd708c3e49f4c33995d2de296cf2c70",
            "value": 481
          }
        },
        "89542e0dcca144f68d5c53f5562b2dcc": {
          "model_module": "@jupyter-widgets/controls",
          "model_name": "HTMLModel",
          "model_module_version": "1.5.0",
          "state": {
            "_dom_classes": [],
            "_model_module": "@jupyter-widgets/controls",
            "_model_module_version": "1.5.0",
            "_model_name": "HTMLModel",
            "_view_count": null,
            "_view_module": "@jupyter-widgets/controls",
            "_view_module_version": "1.5.0",
            "_view_name": "HTMLView",
            "description": "",
            "description_tooltip": null,
            "layout": "IPY_MODEL_2238fb70c6404f7db4f65c422578591c",
            "placeholder": "​",
            "style": "IPY_MODEL_2ce5037f3b3f40f28a2bd00a11765ad6",
            "value": " 481/481 [00:00&lt;00:00, 8.15kB/s]"
          }
        },
        "ac56c59e2b63469da2d7fd8e8a33d322": {
          "model_module": "@jupyter-widgets/base",
          "model_name": "LayoutModel",
          "model_module_version": "1.2.0",
          "state": {
            "_model_module": "@jupyter-widgets/base",
            "_model_module_version": "1.2.0",
            "_model_name": "LayoutModel",
            "_view_count": null,
            "_view_module": "@jupyter-widgets/base",
            "_view_module_version": "1.2.0",
            "_view_name": "LayoutView",
            "align_content": null,
            "align_items": null,
            "align_self": null,
            "border": null,
            "bottom": null,
            "display": null,
            "flex": null,
            "flex_flow": null,
            "grid_area": null,
            "grid_auto_columns": null,
            "grid_auto_flow": null,
            "grid_auto_rows": null,
            "grid_column": null,
            "grid_gap": null,
            "grid_row": null,
            "grid_template_areas": null,
            "grid_template_columns": null,
            "grid_template_rows": null,
            "height": null,
            "justify_content": null,
            "justify_items": null,
            "left": null,
            "margin": null,
            "max_height": null,
            "max_width": null,
            "min_height": null,
            "min_width": null,
            "object_fit": null,
            "object_position": null,
            "order": null,
            "overflow": null,
            "overflow_x": null,
            "overflow_y": null,
            "padding": null,
            "right": null,
            "top": null,
            "visibility": null,
            "width": null
          }
        },
        "2f13d45d6f784746bc1166fd87d183c5": {
          "model_module": "@jupyter-widgets/base",
          "model_name": "LayoutModel",
          "model_module_version": "1.2.0",
          "state": {
            "_model_module": "@jupyter-widgets/base",
            "_model_module_version": "1.2.0",
            "_model_name": "LayoutModel",
            "_view_count": null,
            "_view_module": "@jupyter-widgets/base",
            "_view_module_version": "1.2.0",
            "_view_name": "LayoutView",
            "align_content": null,
            "align_items": null,
            "align_self": null,
            "border": null,
            "bottom": null,
            "display": null,
            "flex": null,
            "flex_flow": null,
            "grid_area": null,
            "grid_auto_columns": null,
            "grid_auto_flow": null,
            "grid_auto_rows": null,
            "grid_column": null,
            "grid_gap": null,
            "grid_row": null,
            "grid_template_areas": null,
            "grid_template_columns": null,
            "grid_template_rows": null,
            "height": null,
            "justify_content": null,
            "justify_items": null,
            "left": null,
            "margin": null,
            "max_height": null,
            "max_width": null,
            "min_height": null,
            "min_width": null,
            "object_fit": null,
            "object_position": null,
            "order": null,
            "overflow": null,
            "overflow_x": null,
            "overflow_y": null,
            "padding": null,
            "right": null,
            "top": null,
            "visibility": null,
            "width": null
          }
        },
        "b16009212d7b4e3e98d595e8edd25fc0": {
          "model_module": "@jupyter-widgets/controls",
          "model_name": "DescriptionStyleModel",
          "model_module_version": "1.5.0",
          "state": {
            "_model_module": "@jupyter-widgets/controls",
            "_model_module_version": "1.5.0",
            "_model_name": "DescriptionStyleModel",
            "_view_count": null,
            "_view_module": "@jupyter-widgets/base",
            "_view_module_version": "1.2.0",
            "_view_name": "StyleView",
            "description_width": ""
          }
        },
        "9b016f0a3f4e433d9835e7a207ad429f": {
          "model_module": "@jupyter-widgets/base",
          "model_name": "LayoutModel",
          "model_module_version": "1.2.0",
          "state": {
            "_model_module": "@jupyter-widgets/base",
            "_model_module_version": "1.2.0",
            "_model_name": "LayoutModel",
            "_view_count": null,
            "_view_module": "@jupyter-widgets/base",
            "_view_module_version": "1.2.0",
            "_view_name": "LayoutView",
            "align_content": null,
            "align_items": null,
            "align_self": null,
            "border": null,
            "bottom": null,
            "display": null,
            "flex": null,
            "flex_flow": null,
            "grid_area": null,
            "grid_auto_columns": null,
            "grid_auto_flow": null,
            "grid_auto_rows": null,
            "grid_column": null,
            "grid_gap": null,
            "grid_row": null,
            "grid_template_areas": null,
            "grid_template_columns": null,
            "grid_template_rows": null,
            "height": null,
            "justify_content": null,
            "justify_items": null,
            "left": null,
            "margin": null,
            "max_height": null,
            "max_width": null,
            "min_height": null,
            "min_width": null,
            "object_fit": null,
            "object_position": null,
            "order": null,
            "overflow": null,
            "overflow_x": null,
            "overflow_y": null,
            "padding": null,
            "right": null,
            "top": null,
            "visibility": null,
            "width": null
          }
        },
        "3fd708c3e49f4c33995d2de296cf2c70": {
          "model_module": "@jupyter-widgets/controls",
          "model_name": "ProgressStyleModel",
          "model_module_version": "1.5.0",
          "state": {
            "_model_module": "@jupyter-widgets/controls",
            "_model_module_version": "1.5.0",
            "_model_name": "ProgressStyleModel",
            "_view_count": null,
            "_view_module": "@jupyter-widgets/base",
            "_view_module_version": "1.2.0",
            "_view_name": "StyleView",
            "bar_color": null,
            "description_width": ""
          }
        },
        "2238fb70c6404f7db4f65c422578591c": {
          "model_module": "@jupyter-widgets/base",
          "model_name": "LayoutModel",
          "model_module_version": "1.2.0",
          "state": {
            "_model_module": "@jupyter-widgets/base",
            "_model_module_version": "1.2.0",
            "_model_name": "LayoutModel",
            "_view_count": null,
            "_view_module": "@jupyter-widgets/base",
            "_view_module_version": "1.2.0",
            "_view_name": "LayoutView",
            "align_content": null,
            "align_items": null,
            "align_self": null,
            "border": null,
            "bottom": null,
            "display": null,
            "flex": null,
            "flex_flow": null,
            "grid_area": null,
            "grid_auto_columns": null,
            "grid_auto_flow": null,
            "grid_auto_rows": null,
            "grid_column": null,
            "grid_gap": null,
            "grid_row": null,
            "grid_template_areas": null,
            "grid_template_columns": null,
            "grid_template_rows": null,
            "height": null,
            "justify_content": null,
            "justify_items": null,
            "left": null,
            "margin": null,
            "max_height": null,
            "max_width": null,
            "min_height": null,
            "min_width": null,
            "object_fit": null,
            "object_position": null,
            "order": null,
            "overflow": null,
            "overflow_x": null,
            "overflow_y": null,
            "padding": null,
            "right": null,
            "top": null,
            "visibility": null,
            "width": null
          }
        },
        "2ce5037f3b3f40f28a2bd00a11765ad6": {
          "model_module": "@jupyter-widgets/controls",
          "model_name": "DescriptionStyleModel",
          "model_module_version": "1.5.0",
          "state": {
            "_model_module": "@jupyter-widgets/controls",
            "_model_module_version": "1.5.0",
            "_model_name": "DescriptionStyleModel",
            "_view_count": null,
            "_view_module": "@jupyter-widgets/base",
            "_view_module_version": "1.2.0",
            "_view_name": "StyleView",
            "description_width": ""
          }
        },
        "5be4dd1896794d13ad460189ff59a465": {
          "model_module": "@jupyter-widgets/controls",
          "model_name": "HBoxModel",
          "model_module_version": "1.5.0",
          "state": {
            "_dom_classes": [],
            "_model_module": "@jupyter-widgets/controls",
            "_model_module_version": "1.5.0",
            "_model_name": "HBoxModel",
            "_view_count": null,
            "_view_module": "@jupyter-widgets/controls",
            "_view_module_version": "1.5.0",
            "_view_name": "HBoxView",
            "box_style": "",
            "children": [
              "IPY_MODEL_9b8b4ed716f545129acb7eb730593672",
              "IPY_MODEL_dee9e667c4894f03ba0b62218a552e7d",
              "IPY_MODEL_556da6e28df44c929270bdd105c8d0a4"
            ],
            "layout": "IPY_MODEL_59f38461c1b84c18815f70f25c1cf705"
          }
        },
        "9b8b4ed716f545129acb7eb730593672": {
          "model_module": "@jupyter-widgets/controls",
          "model_name": "HTMLModel",
          "model_module_version": "1.5.0",
          "state": {
            "_dom_classes": [],
            "_model_module": "@jupyter-widgets/controls",
            "_model_module_version": "1.5.0",
            "_model_name": "HTMLModel",
            "_view_count": null,
            "_view_module": "@jupyter-widgets/controls",
            "_view_module_version": "1.5.0",
            "_view_name": "HTMLView",
            "description": "",
            "description_tooltip": null,
            "layout": "IPY_MODEL_62530e8d0b044e73b0cfa92b22913fb4",
            "placeholder": "​",
            "style": "IPY_MODEL_881cc90f77f043c2b107af7d8d6f602c",
            "value": "Downloading pytorch_model.bin: 100%"
          }
        },
        "dee9e667c4894f03ba0b62218a552e7d": {
          "model_module": "@jupyter-widgets/controls",
          "model_name": "FloatProgressModel",
          "model_module_version": "1.5.0",
          "state": {
            "_dom_classes": [],
            "_model_module": "@jupyter-widgets/controls",
            "_model_module_version": "1.5.0",
            "_model_name": "FloatProgressModel",
            "_view_count": null,
            "_view_module": "@jupyter-widgets/controls",
            "_view_module_version": "1.5.0",
            "_view_name": "ProgressView",
            "bar_style": "success",
            "description": "",
            "description_tooltip": null,
            "layout": "IPY_MODEL_698c6b03cc7f466fb1f14e3a7d3343fe",
            "max": 501200538,
            "min": 0,
            "orientation": "horizontal",
            "style": "IPY_MODEL_7dce007dc64e4acf83b8a96966bfb622",
            "value": 501200538
          }
        },
        "556da6e28df44c929270bdd105c8d0a4": {
          "model_module": "@jupyter-widgets/controls",
          "model_name": "HTMLModel",
          "model_module_version": "1.5.0",
          "state": {
            "_dom_classes": [],
            "_model_module": "@jupyter-widgets/controls",
            "_model_module_version": "1.5.0",
            "_model_name": "HTMLModel",
            "_view_count": null,
            "_view_module": "@jupyter-widgets/controls",
            "_view_module_version": "1.5.0",
            "_view_name": "HTMLView",
            "description": "",
            "description_tooltip": null,
            "layout": "IPY_MODEL_e1f209d0e6a142aea1c9e2b9ddd4531a",
            "placeholder": "​",
            "style": "IPY_MODEL_7557d6be2b6e434caaa6c1a095f1673f",
            "value": " 501M/501M [00:03&lt;00:00, 120MB/s]"
          }
        },
        "59f38461c1b84c18815f70f25c1cf705": {
          "model_module": "@jupyter-widgets/base",
          "model_name": "LayoutModel",
          "model_module_version": "1.2.0",
          "state": {
            "_model_module": "@jupyter-widgets/base",
            "_model_module_version": "1.2.0",
            "_model_name": "LayoutModel",
            "_view_count": null,
            "_view_module": "@jupyter-widgets/base",
            "_view_module_version": "1.2.0",
            "_view_name": "LayoutView",
            "align_content": null,
            "align_items": null,
            "align_self": null,
            "border": null,
            "bottom": null,
            "display": null,
            "flex": null,
            "flex_flow": null,
            "grid_area": null,
            "grid_auto_columns": null,
            "grid_auto_flow": null,
            "grid_auto_rows": null,
            "grid_column": null,
            "grid_gap": null,
            "grid_row": null,
            "grid_template_areas": null,
            "grid_template_columns": null,
            "grid_template_rows": null,
            "height": null,
            "justify_content": null,
            "justify_items": null,
            "left": null,
            "margin": null,
            "max_height": null,
            "max_width": null,
            "min_height": null,
            "min_width": null,
            "object_fit": null,
            "object_position": null,
            "order": null,
            "overflow": null,
            "overflow_x": null,
            "overflow_y": null,
            "padding": null,
            "right": null,
            "top": null,
            "visibility": null,
            "width": null
          }
        },
        "62530e8d0b044e73b0cfa92b22913fb4": {
          "model_module": "@jupyter-widgets/base",
          "model_name": "LayoutModel",
          "model_module_version": "1.2.0",
          "state": {
            "_model_module": "@jupyter-widgets/base",
            "_model_module_version": "1.2.0",
            "_model_name": "LayoutModel",
            "_view_count": null,
            "_view_module": "@jupyter-widgets/base",
            "_view_module_version": "1.2.0",
            "_view_name": "LayoutView",
            "align_content": null,
            "align_items": null,
            "align_self": null,
            "border": null,
            "bottom": null,
            "display": null,
            "flex": null,
            "flex_flow": null,
            "grid_area": null,
            "grid_auto_columns": null,
            "grid_auto_flow": null,
            "grid_auto_rows": null,
            "grid_column": null,
            "grid_gap": null,
            "grid_row": null,
            "grid_template_areas": null,
            "grid_template_columns": null,
            "grid_template_rows": null,
            "height": null,
            "justify_content": null,
            "justify_items": null,
            "left": null,
            "margin": null,
            "max_height": null,
            "max_width": null,
            "min_height": null,
            "min_width": null,
            "object_fit": null,
            "object_position": null,
            "order": null,
            "overflow": null,
            "overflow_x": null,
            "overflow_y": null,
            "padding": null,
            "right": null,
            "top": null,
            "visibility": null,
            "width": null
          }
        },
        "881cc90f77f043c2b107af7d8d6f602c": {
          "model_module": "@jupyter-widgets/controls",
          "model_name": "DescriptionStyleModel",
          "model_module_version": "1.5.0",
          "state": {
            "_model_module": "@jupyter-widgets/controls",
            "_model_module_version": "1.5.0",
            "_model_name": "DescriptionStyleModel",
            "_view_count": null,
            "_view_module": "@jupyter-widgets/base",
            "_view_module_version": "1.2.0",
            "_view_name": "StyleView",
            "description_width": ""
          }
        },
        "698c6b03cc7f466fb1f14e3a7d3343fe": {
          "model_module": "@jupyter-widgets/base",
          "model_name": "LayoutModel",
          "model_module_version": "1.2.0",
          "state": {
            "_model_module": "@jupyter-widgets/base",
            "_model_module_version": "1.2.0",
            "_model_name": "LayoutModel",
            "_view_count": null,
            "_view_module": "@jupyter-widgets/base",
            "_view_module_version": "1.2.0",
            "_view_name": "LayoutView",
            "align_content": null,
            "align_items": null,
            "align_self": null,
            "border": null,
            "bottom": null,
            "display": null,
            "flex": null,
            "flex_flow": null,
            "grid_area": null,
            "grid_auto_columns": null,
            "grid_auto_flow": null,
            "grid_auto_rows": null,
            "grid_column": null,
            "grid_gap": null,
            "grid_row": null,
            "grid_template_areas": null,
            "grid_template_columns": null,
            "grid_template_rows": null,
            "height": null,
            "justify_content": null,
            "justify_items": null,
            "left": null,
            "margin": null,
            "max_height": null,
            "max_width": null,
            "min_height": null,
            "min_width": null,
            "object_fit": null,
            "object_position": null,
            "order": null,
            "overflow": null,
            "overflow_x": null,
            "overflow_y": null,
            "padding": null,
            "right": null,
            "top": null,
            "visibility": null,
            "width": null
          }
        },
        "7dce007dc64e4acf83b8a96966bfb622": {
          "model_module": "@jupyter-widgets/controls",
          "model_name": "ProgressStyleModel",
          "model_module_version": "1.5.0",
          "state": {
            "_model_module": "@jupyter-widgets/controls",
            "_model_module_version": "1.5.0",
            "_model_name": "ProgressStyleModel",
            "_view_count": null,
            "_view_module": "@jupyter-widgets/base",
            "_view_module_version": "1.2.0",
            "_view_name": "StyleView",
            "bar_color": null,
            "description_width": ""
          }
        },
        "e1f209d0e6a142aea1c9e2b9ddd4531a": {
          "model_module": "@jupyter-widgets/base",
          "model_name": "LayoutModel",
          "model_module_version": "1.2.0",
          "state": {
            "_model_module": "@jupyter-widgets/base",
            "_model_module_version": "1.2.0",
            "_model_name": "LayoutModel",
            "_view_count": null,
            "_view_module": "@jupyter-widgets/base",
            "_view_module_version": "1.2.0",
            "_view_name": "LayoutView",
            "align_content": null,
            "align_items": null,
            "align_self": null,
            "border": null,
            "bottom": null,
            "display": null,
            "flex": null,
            "flex_flow": null,
            "grid_area": null,
            "grid_auto_columns": null,
            "grid_auto_flow": null,
            "grid_auto_rows": null,
            "grid_column": null,
            "grid_gap": null,
            "grid_row": null,
            "grid_template_areas": null,
            "grid_template_columns": null,
            "grid_template_rows": null,
            "height": null,
            "justify_content": null,
            "justify_items": null,
            "left": null,
            "margin": null,
            "max_height": null,
            "max_width": null,
            "min_height": null,
            "min_width": null,
            "object_fit": null,
            "object_position": null,
            "order": null,
            "overflow": null,
            "overflow_x": null,
            "overflow_y": null,
            "padding": null,
            "right": null,
            "top": null,
            "visibility": null,
            "width": null
          }
        },
        "7557d6be2b6e434caaa6c1a095f1673f": {
          "model_module": "@jupyter-widgets/controls",
          "model_name": "DescriptionStyleModel",
          "model_module_version": "1.5.0",
          "state": {
            "_model_module": "@jupyter-widgets/controls",
            "_model_module_version": "1.5.0",
            "_model_name": "DescriptionStyleModel",
            "_view_count": null,
            "_view_module": "@jupyter-widgets/base",
            "_view_module_version": "1.2.0",
            "_view_name": "StyleView",
            "description_width": ""
          }
        },
        "cd819ec3bb8d432cacf53948bc9c888a": {
          "model_module": "@jupyter-widgets/controls",
          "model_name": "HBoxModel",
          "model_module_version": "1.5.0",
          "state": {
            "_dom_classes": [],
            "_model_module": "@jupyter-widgets/controls",
            "_model_module_version": "1.5.0",
            "_model_name": "HBoxModel",
            "_view_count": null,
            "_view_module": "@jupyter-widgets/controls",
            "_view_module_version": "1.5.0",
            "_view_name": "HBoxView",
            "box_style": "",
            "children": [
              "IPY_MODEL_8bc24389e7fd45f78574ba0f0d844206",
              "IPY_MODEL_7353a05e62c448cd83a78005d5b3431a",
              "IPY_MODEL_6c071464f77145b28cedce0a9dab518c"
            ],
            "layout": "IPY_MODEL_4d7b896f2fd94fe3b0931f327671aa16"
          }
        },
        "8bc24389e7fd45f78574ba0f0d844206": {
          "model_module": "@jupyter-widgets/controls",
          "model_name": "HTMLModel",
          "model_module_version": "1.5.0",
          "state": {
            "_dom_classes": [],
            "_model_module": "@jupyter-widgets/controls",
            "_model_module_version": "1.5.0",
            "_model_name": "HTMLModel",
            "_view_count": null,
            "_view_module": "@jupyter-widgets/controls",
            "_view_module_version": "1.5.0",
            "_view_name": "HTMLView",
            "description": "",
            "description_tooltip": null,
            "layout": "IPY_MODEL_c560a89dfdf847bea1fc99875ba7b99b",
            "placeholder": "​",
            "style": "IPY_MODEL_683645d96e354bda8a6820ddfe806640",
            "value": "Downloading (…)olve/main/vocab.json: 100%"
          }
        },
        "7353a05e62c448cd83a78005d5b3431a": {
          "model_module": "@jupyter-widgets/controls",
          "model_name": "FloatProgressModel",
          "model_module_version": "1.5.0",
          "state": {
            "_dom_classes": [],
            "_model_module": "@jupyter-widgets/controls",
            "_model_module_version": "1.5.0",
            "_model_name": "FloatProgressModel",
            "_view_count": null,
            "_view_module": "@jupyter-widgets/controls",
            "_view_module_version": "1.5.0",
            "_view_name": "ProgressView",
            "bar_style": "success",
            "description": "",
            "description_tooltip": null,
            "layout": "IPY_MODEL_22199d9dda0247e098b16437ce211cb9",
            "max": 898823,
            "min": 0,
            "orientation": "horizontal",
            "style": "IPY_MODEL_7552ae284a1441f4b243af84cd53414e",
            "value": 898823
          }
        },
        "6c071464f77145b28cedce0a9dab518c": {
          "model_module": "@jupyter-widgets/controls",
          "model_name": "HTMLModel",
          "model_module_version": "1.5.0",
          "state": {
            "_dom_classes": [],
            "_model_module": "@jupyter-widgets/controls",
            "_model_module_version": "1.5.0",
            "_model_name": "HTMLModel",
            "_view_count": null,
            "_view_module": "@jupyter-widgets/controls",
            "_view_module_version": "1.5.0",
            "_view_name": "HTMLView",
            "description": "",
            "description_tooltip": null,
            "layout": "IPY_MODEL_c3d9b2f12e524034995126eddc6ef3ac",
            "placeholder": "​",
            "style": "IPY_MODEL_b600d26791c94de4b20970b6990bf3d1",
            "value": " 899k/899k [00:00&lt;00:00, 6.13MB/s]"
          }
        },
        "4d7b896f2fd94fe3b0931f327671aa16": {
          "model_module": "@jupyter-widgets/base",
          "model_name": "LayoutModel",
          "model_module_version": "1.2.0",
          "state": {
            "_model_module": "@jupyter-widgets/base",
            "_model_module_version": "1.2.0",
            "_model_name": "LayoutModel",
            "_view_count": null,
            "_view_module": "@jupyter-widgets/base",
            "_view_module_version": "1.2.0",
            "_view_name": "LayoutView",
            "align_content": null,
            "align_items": null,
            "align_self": null,
            "border": null,
            "bottom": null,
            "display": null,
            "flex": null,
            "flex_flow": null,
            "grid_area": null,
            "grid_auto_columns": null,
            "grid_auto_flow": null,
            "grid_auto_rows": null,
            "grid_column": null,
            "grid_gap": null,
            "grid_row": null,
            "grid_template_areas": null,
            "grid_template_columns": null,
            "grid_template_rows": null,
            "height": null,
            "justify_content": null,
            "justify_items": null,
            "left": null,
            "margin": null,
            "max_height": null,
            "max_width": null,
            "min_height": null,
            "min_width": null,
            "object_fit": null,
            "object_position": null,
            "order": null,
            "overflow": null,
            "overflow_x": null,
            "overflow_y": null,
            "padding": null,
            "right": null,
            "top": null,
            "visibility": null,
            "width": null
          }
        },
        "c560a89dfdf847bea1fc99875ba7b99b": {
          "model_module": "@jupyter-widgets/base",
          "model_name": "LayoutModel",
          "model_module_version": "1.2.0",
          "state": {
            "_model_module": "@jupyter-widgets/base",
            "_model_module_version": "1.2.0",
            "_model_name": "LayoutModel",
            "_view_count": null,
            "_view_module": "@jupyter-widgets/base",
            "_view_module_version": "1.2.0",
            "_view_name": "LayoutView",
            "align_content": null,
            "align_items": null,
            "align_self": null,
            "border": null,
            "bottom": null,
            "display": null,
            "flex": null,
            "flex_flow": null,
            "grid_area": null,
            "grid_auto_columns": null,
            "grid_auto_flow": null,
            "grid_auto_rows": null,
            "grid_column": null,
            "grid_gap": null,
            "grid_row": null,
            "grid_template_areas": null,
            "grid_template_columns": null,
            "grid_template_rows": null,
            "height": null,
            "justify_content": null,
            "justify_items": null,
            "left": null,
            "margin": null,
            "max_height": null,
            "max_width": null,
            "min_height": null,
            "min_width": null,
            "object_fit": null,
            "object_position": null,
            "order": null,
            "overflow": null,
            "overflow_x": null,
            "overflow_y": null,
            "padding": null,
            "right": null,
            "top": null,
            "visibility": null,
            "width": null
          }
        },
        "683645d96e354bda8a6820ddfe806640": {
          "model_module": "@jupyter-widgets/controls",
          "model_name": "DescriptionStyleModel",
          "model_module_version": "1.5.0",
          "state": {
            "_model_module": "@jupyter-widgets/controls",
            "_model_module_version": "1.5.0",
            "_model_name": "DescriptionStyleModel",
            "_view_count": null,
            "_view_module": "@jupyter-widgets/base",
            "_view_module_version": "1.2.0",
            "_view_name": "StyleView",
            "description_width": ""
          }
        },
        "22199d9dda0247e098b16437ce211cb9": {
          "model_module": "@jupyter-widgets/base",
          "model_name": "LayoutModel",
          "model_module_version": "1.2.0",
          "state": {
            "_model_module": "@jupyter-widgets/base",
            "_model_module_version": "1.2.0",
            "_model_name": "LayoutModel",
            "_view_count": null,
            "_view_module": "@jupyter-widgets/base",
            "_view_module_version": "1.2.0",
            "_view_name": "LayoutView",
            "align_content": null,
            "align_items": null,
            "align_self": null,
            "border": null,
            "bottom": null,
            "display": null,
            "flex": null,
            "flex_flow": null,
            "grid_area": null,
            "grid_auto_columns": null,
            "grid_auto_flow": null,
            "grid_auto_rows": null,
            "grid_column": null,
            "grid_gap": null,
            "grid_row": null,
            "grid_template_areas": null,
            "grid_template_columns": null,
            "grid_template_rows": null,
            "height": null,
            "justify_content": null,
            "justify_items": null,
            "left": null,
            "margin": null,
            "max_height": null,
            "max_width": null,
            "min_height": null,
            "min_width": null,
            "object_fit": null,
            "object_position": null,
            "order": null,
            "overflow": null,
            "overflow_x": null,
            "overflow_y": null,
            "padding": null,
            "right": null,
            "top": null,
            "visibility": null,
            "width": null
          }
        },
        "7552ae284a1441f4b243af84cd53414e": {
          "model_module": "@jupyter-widgets/controls",
          "model_name": "ProgressStyleModel",
          "model_module_version": "1.5.0",
          "state": {
            "_model_module": "@jupyter-widgets/controls",
            "_model_module_version": "1.5.0",
            "_model_name": "ProgressStyleModel",
            "_view_count": null,
            "_view_module": "@jupyter-widgets/base",
            "_view_module_version": "1.2.0",
            "_view_name": "StyleView",
            "bar_color": null,
            "description_width": ""
          }
        },
        "c3d9b2f12e524034995126eddc6ef3ac": {
          "model_module": "@jupyter-widgets/base",
          "model_name": "LayoutModel",
          "model_module_version": "1.2.0",
          "state": {
            "_model_module": "@jupyter-widgets/base",
            "_model_module_version": "1.2.0",
            "_model_name": "LayoutModel",
            "_view_count": null,
            "_view_module": "@jupyter-widgets/base",
            "_view_module_version": "1.2.0",
            "_view_name": "LayoutView",
            "align_content": null,
            "align_items": null,
            "align_self": null,
            "border": null,
            "bottom": null,
            "display": null,
            "flex": null,
            "flex_flow": null,
            "grid_area": null,
            "grid_auto_columns": null,
            "grid_auto_flow": null,
            "grid_auto_rows": null,
            "grid_column": null,
            "grid_gap": null,
            "grid_row": null,
            "grid_template_areas": null,
            "grid_template_columns": null,
            "grid_template_rows": null,
            "height": null,
            "justify_content": null,
            "justify_items": null,
            "left": null,
            "margin": null,
            "max_height": null,
            "max_width": null,
            "min_height": null,
            "min_width": null,
            "object_fit": null,
            "object_position": null,
            "order": null,
            "overflow": null,
            "overflow_x": null,
            "overflow_y": null,
            "padding": null,
            "right": null,
            "top": null,
            "visibility": null,
            "width": null
          }
        },
        "b600d26791c94de4b20970b6990bf3d1": {
          "model_module": "@jupyter-widgets/controls",
          "model_name": "DescriptionStyleModel",
          "model_module_version": "1.5.0",
          "state": {
            "_model_module": "@jupyter-widgets/controls",
            "_model_module_version": "1.5.0",
            "_model_name": "DescriptionStyleModel",
            "_view_count": null,
            "_view_module": "@jupyter-widgets/base",
            "_view_module_version": "1.2.0",
            "_view_name": "StyleView",
            "description_width": ""
          }
        },
        "6039751ff118466181fd4442a8c2cef7": {
          "model_module": "@jupyter-widgets/controls",
          "model_name": "HBoxModel",
          "model_module_version": "1.5.0",
          "state": {
            "_dom_classes": [],
            "_model_module": "@jupyter-widgets/controls",
            "_model_module_version": "1.5.0",
            "_model_name": "HBoxModel",
            "_view_count": null,
            "_view_module": "@jupyter-widgets/controls",
            "_view_module_version": "1.5.0",
            "_view_name": "HBoxView",
            "box_style": "",
            "children": [
              "IPY_MODEL_8e86a162ce244dd7b5c0f2cf4dbc5f7b",
              "IPY_MODEL_1e385e4538c24c67b1e5692510b98cd9",
              "IPY_MODEL_0f21e57e22eb48e0b8638a5d68ef0a3a"
            ],
            "layout": "IPY_MODEL_6155bedc7db8498287e215b15c17d3c2"
          }
        },
        "8e86a162ce244dd7b5c0f2cf4dbc5f7b": {
          "model_module": "@jupyter-widgets/controls",
          "model_name": "HTMLModel",
          "model_module_version": "1.5.0",
          "state": {
            "_dom_classes": [],
            "_model_module": "@jupyter-widgets/controls",
            "_model_module_version": "1.5.0",
            "_model_name": "HTMLModel",
            "_view_count": null,
            "_view_module": "@jupyter-widgets/controls",
            "_view_module_version": "1.5.0",
            "_view_name": "HTMLView",
            "description": "",
            "description_tooltip": null,
            "layout": "IPY_MODEL_bccd6e8f24494e518689e8d848f87b4f",
            "placeholder": "​",
            "style": "IPY_MODEL_7c694f80fd4a4f4cbfc21af40ff30581",
            "value": "Downloading (…)olve/main/merges.txt: 100%"
          }
        },
        "1e385e4538c24c67b1e5692510b98cd9": {
          "model_module": "@jupyter-widgets/controls",
          "model_name": "FloatProgressModel",
          "model_module_version": "1.5.0",
          "state": {
            "_dom_classes": [],
            "_model_module": "@jupyter-widgets/controls",
            "_model_module_version": "1.5.0",
            "_model_name": "FloatProgressModel",
            "_view_count": null,
            "_view_module": "@jupyter-widgets/controls",
            "_view_module_version": "1.5.0",
            "_view_name": "ProgressView",
            "bar_style": "success",
            "description": "",
            "description_tooltip": null,
            "layout": "IPY_MODEL_6b498f5f021b447cba4b7418a8177895",
            "max": 456318,
            "min": 0,
            "orientation": "horizontal",
            "style": "IPY_MODEL_1e2ff54a64124dffa51a2a4684a3a6c4",
            "value": 456318
          }
        },
        "0f21e57e22eb48e0b8638a5d68ef0a3a": {
          "model_module": "@jupyter-widgets/controls",
          "model_name": "HTMLModel",
          "model_module_version": "1.5.0",
          "state": {
            "_dom_classes": [],
            "_model_module": "@jupyter-widgets/controls",
            "_model_module_version": "1.5.0",
            "_model_name": "HTMLModel",
            "_view_count": null,
            "_view_module": "@jupyter-widgets/controls",
            "_view_module_version": "1.5.0",
            "_view_name": "HTMLView",
            "description": "",
            "description_tooltip": null,
            "layout": "IPY_MODEL_fff1132a666f463bb1d251d2d8347665",
            "placeholder": "​",
            "style": "IPY_MODEL_7f08594d9fd84bfaaedc3eb6ea5a263a",
            "value": " 456k/456k [00:00&lt;00:00, 6.11MB/s]"
          }
        },
        "6155bedc7db8498287e215b15c17d3c2": {
          "model_module": "@jupyter-widgets/base",
          "model_name": "LayoutModel",
          "model_module_version": "1.2.0",
          "state": {
            "_model_module": "@jupyter-widgets/base",
            "_model_module_version": "1.2.0",
            "_model_name": "LayoutModel",
            "_view_count": null,
            "_view_module": "@jupyter-widgets/base",
            "_view_module_version": "1.2.0",
            "_view_name": "LayoutView",
            "align_content": null,
            "align_items": null,
            "align_self": null,
            "border": null,
            "bottom": null,
            "display": null,
            "flex": null,
            "flex_flow": null,
            "grid_area": null,
            "grid_auto_columns": null,
            "grid_auto_flow": null,
            "grid_auto_rows": null,
            "grid_column": null,
            "grid_gap": null,
            "grid_row": null,
            "grid_template_areas": null,
            "grid_template_columns": null,
            "grid_template_rows": null,
            "height": null,
            "justify_content": null,
            "justify_items": null,
            "left": null,
            "margin": null,
            "max_height": null,
            "max_width": null,
            "min_height": null,
            "min_width": null,
            "object_fit": null,
            "object_position": null,
            "order": null,
            "overflow": null,
            "overflow_x": null,
            "overflow_y": null,
            "padding": null,
            "right": null,
            "top": null,
            "visibility": null,
            "width": null
          }
        },
        "bccd6e8f24494e518689e8d848f87b4f": {
          "model_module": "@jupyter-widgets/base",
          "model_name": "LayoutModel",
          "model_module_version": "1.2.0",
          "state": {
            "_model_module": "@jupyter-widgets/base",
            "_model_module_version": "1.2.0",
            "_model_name": "LayoutModel",
            "_view_count": null,
            "_view_module": "@jupyter-widgets/base",
            "_view_module_version": "1.2.0",
            "_view_name": "LayoutView",
            "align_content": null,
            "align_items": null,
            "align_self": null,
            "border": null,
            "bottom": null,
            "display": null,
            "flex": null,
            "flex_flow": null,
            "grid_area": null,
            "grid_auto_columns": null,
            "grid_auto_flow": null,
            "grid_auto_rows": null,
            "grid_column": null,
            "grid_gap": null,
            "grid_row": null,
            "grid_template_areas": null,
            "grid_template_columns": null,
            "grid_template_rows": null,
            "height": null,
            "justify_content": null,
            "justify_items": null,
            "left": null,
            "margin": null,
            "max_height": null,
            "max_width": null,
            "min_height": null,
            "min_width": null,
            "object_fit": null,
            "object_position": null,
            "order": null,
            "overflow": null,
            "overflow_x": null,
            "overflow_y": null,
            "padding": null,
            "right": null,
            "top": null,
            "visibility": null,
            "width": null
          }
        },
        "7c694f80fd4a4f4cbfc21af40ff30581": {
          "model_module": "@jupyter-widgets/controls",
          "model_name": "DescriptionStyleModel",
          "model_module_version": "1.5.0",
          "state": {
            "_model_module": "@jupyter-widgets/controls",
            "_model_module_version": "1.5.0",
            "_model_name": "DescriptionStyleModel",
            "_view_count": null,
            "_view_module": "@jupyter-widgets/base",
            "_view_module_version": "1.2.0",
            "_view_name": "StyleView",
            "description_width": ""
          }
        },
        "6b498f5f021b447cba4b7418a8177895": {
          "model_module": "@jupyter-widgets/base",
          "model_name": "LayoutModel",
          "model_module_version": "1.2.0",
          "state": {
            "_model_module": "@jupyter-widgets/base",
            "_model_module_version": "1.2.0",
            "_model_name": "LayoutModel",
            "_view_count": null,
            "_view_module": "@jupyter-widgets/base",
            "_view_module_version": "1.2.0",
            "_view_name": "LayoutView",
            "align_content": null,
            "align_items": null,
            "align_self": null,
            "border": null,
            "bottom": null,
            "display": null,
            "flex": null,
            "flex_flow": null,
            "grid_area": null,
            "grid_auto_columns": null,
            "grid_auto_flow": null,
            "grid_auto_rows": null,
            "grid_column": null,
            "grid_gap": null,
            "grid_row": null,
            "grid_template_areas": null,
            "grid_template_columns": null,
            "grid_template_rows": null,
            "height": null,
            "justify_content": null,
            "justify_items": null,
            "left": null,
            "margin": null,
            "max_height": null,
            "max_width": null,
            "min_height": null,
            "min_width": null,
            "object_fit": null,
            "object_position": null,
            "order": null,
            "overflow": null,
            "overflow_x": null,
            "overflow_y": null,
            "padding": null,
            "right": null,
            "top": null,
            "visibility": null,
            "width": null
          }
        },
        "1e2ff54a64124dffa51a2a4684a3a6c4": {
          "model_module": "@jupyter-widgets/controls",
          "model_name": "ProgressStyleModel",
          "model_module_version": "1.5.0",
          "state": {
            "_model_module": "@jupyter-widgets/controls",
            "_model_module_version": "1.5.0",
            "_model_name": "ProgressStyleModel",
            "_view_count": null,
            "_view_module": "@jupyter-widgets/base",
            "_view_module_version": "1.2.0",
            "_view_name": "StyleView",
            "bar_color": null,
            "description_width": ""
          }
        },
        "fff1132a666f463bb1d251d2d8347665": {
          "model_module": "@jupyter-widgets/base",
          "model_name": "LayoutModel",
          "model_module_version": "1.2.0",
          "state": {
            "_model_module": "@jupyter-widgets/base",
            "_model_module_version": "1.2.0",
            "_model_name": "LayoutModel",
            "_view_count": null,
            "_view_module": "@jupyter-widgets/base",
            "_view_module_version": "1.2.0",
            "_view_name": "LayoutView",
            "align_content": null,
            "align_items": null,
            "align_self": null,
            "border": null,
            "bottom": null,
            "display": null,
            "flex": null,
            "flex_flow": null,
            "grid_area": null,
            "grid_auto_columns": null,
            "grid_auto_flow": null,
            "grid_auto_rows": null,
            "grid_column": null,
            "grid_gap": null,
            "grid_row": null,
            "grid_template_areas": null,
            "grid_template_columns": null,
            "grid_template_rows": null,
            "height": null,
            "justify_content": null,
            "justify_items": null,
            "left": null,
            "margin": null,
            "max_height": null,
            "max_width": null,
            "min_height": null,
            "min_width": null,
            "object_fit": null,
            "object_position": null,
            "order": null,
            "overflow": null,
            "overflow_x": null,
            "overflow_y": null,
            "padding": null,
            "right": null,
            "top": null,
            "visibility": null,
            "width": null
          }
        },
        "7f08594d9fd84bfaaedc3eb6ea5a263a": {
          "model_module": "@jupyter-widgets/controls",
          "model_name": "DescriptionStyleModel",
          "model_module_version": "1.5.0",
          "state": {
            "_model_module": "@jupyter-widgets/controls",
            "_model_module_version": "1.5.0",
            "_model_name": "DescriptionStyleModel",
            "_view_count": null,
            "_view_module": "@jupyter-widgets/base",
            "_view_module_version": "1.2.0",
            "_view_name": "StyleView",
            "description_width": ""
          }
        },
        "3edd71eacfff40f8a8128d7281dba51e": {
          "model_module": "@jupyter-widgets/controls",
          "model_name": "HBoxModel",
          "model_module_version": "1.5.0",
          "state": {
            "_dom_classes": [],
            "_model_module": "@jupyter-widgets/controls",
            "_model_module_version": "1.5.0",
            "_model_name": "HBoxModel",
            "_view_count": null,
            "_view_module": "@jupyter-widgets/controls",
            "_view_module_version": "1.5.0",
            "_view_name": "HBoxView",
            "box_style": "",
            "children": [
              "IPY_MODEL_e9a2c7ab8e884a269ea6e6d53e4b7967",
              "IPY_MODEL_7291bea3cba54d5c9c7b519b7c7a42d0",
              "IPY_MODEL_8716ad3a50be4f28942ce338846706dd"
            ],
            "layout": "IPY_MODEL_4414f9945b6b4957b7b77750f3690be1"
          }
        },
        "e9a2c7ab8e884a269ea6e6d53e4b7967": {
          "model_module": "@jupyter-widgets/controls",
          "model_name": "HTMLModel",
          "model_module_version": "1.5.0",
          "state": {
            "_dom_classes": [],
            "_model_module": "@jupyter-widgets/controls",
            "_model_module_version": "1.5.0",
            "_model_name": "HTMLModel",
            "_view_count": null,
            "_view_module": "@jupyter-widgets/controls",
            "_view_module_version": "1.5.0",
            "_view_name": "HTMLView",
            "description": "",
            "description_tooltip": null,
            "layout": "IPY_MODEL_fa973930acab4bc2a17f52ff2ba970fe",
            "placeholder": "​",
            "style": "IPY_MODEL_ac4cba8ff8fe4d0ab5592e50f31511dd",
            "value": "100%"
          }
        },
        "7291bea3cba54d5c9c7b519b7c7a42d0": {
          "model_module": "@jupyter-widgets/controls",
          "model_name": "FloatProgressModel",
          "model_module_version": "1.5.0",
          "state": {
            "_dom_classes": [],
            "_model_module": "@jupyter-widgets/controls",
            "_model_module_version": "1.5.0",
            "_model_name": "FloatProgressModel",
            "_view_count": null,
            "_view_module": "@jupyter-widgets/controls",
            "_view_module_version": "1.5.0",
            "_view_name": "ProgressView",
            "bar_style": "success",
            "description": "",
            "description_tooltip": null,
            "layout": "IPY_MODEL_16a0ae64a62d4f35ad986acce6945fc6",
            "max": 3,
            "min": 0,
            "orientation": "horizontal",
            "style": "IPY_MODEL_fbdc8b6084a44bd48a0a2ba0814178cf",
            "value": 3
          }
        },
        "8716ad3a50be4f28942ce338846706dd": {
          "model_module": "@jupyter-widgets/controls",
          "model_name": "HTMLModel",
          "model_module_version": "1.5.0",
          "state": {
            "_dom_classes": [],
            "_model_module": "@jupyter-widgets/controls",
            "_model_module_version": "1.5.0",
            "_model_name": "HTMLModel",
            "_view_count": null,
            "_view_module": "@jupyter-widgets/controls",
            "_view_module_version": "1.5.0",
            "_view_name": "HTMLView",
            "description": "",
            "description_tooltip": null,
            "layout": "IPY_MODEL_f9a77c9256b64386a203a64f9c466037",
            "placeholder": "​",
            "style": "IPY_MODEL_0a4e21303b13499eaf29ed0ff0bd8e9e",
            "value": " 3/3 [00:00&lt;00:00, 55.82it/s]"
          }
        },
        "4414f9945b6b4957b7b77750f3690be1": {
          "model_module": "@jupyter-widgets/base",
          "model_name": "LayoutModel",
          "model_module_version": "1.2.0",
          "state": {
            "_model_module": "@jupyter-widgets/base",
            "_model_module_version": "1.2.0",
            "_model_name": "LayoutModel",
            "_view_count": null,
            "_view_module": "@jupyter-widgets/base",
            "_view_module_version": "1.2.0",
            "_view_name": "LayoutView",
            "align_content": null,
            "align_items": null,
            "align_self": null,
            "border": null,
            "bottom": null,
            "display": null,
            "flex": null,
            "flex_flow": null,
            "grid_area": null,
            "grid_auto_columns": null,
            "grid_auto_flow": null,
            "grid_auto_rows": null,
            "grid_column": null,
            "grid_gap": null,
            "grid_row": null,
            "grid_template_areas": null,
            "grid_template_columns": null,
            "grid_template_rows": null,
            "height": null,
            "justify_content": null,
            "justify_items": null,
            "left": null,
            "margin": null,
            "max_height": null,
            "max_width": null,
            "min_height": null,
            "min_width": null,
            "object_fit": null,
            "object_position": null,
            "order": null,
            "overflow": null,
            "overflow_x": null,
            "overflow_y": null,
            "padding": null,
            "right": null,
            "top": null,
            "visibility": null,
            "width": null
          }
        },
        "fa973930acab4bc2a17f52ff2ba970fe": {
          "model_module": "@jupyter-widgets/base",
          "model_name": "LayoutModel",
          "model_module_version": "1.2.0",
          "state": {
            "_model_module": "@jupyter-widgets/base",
            "_model_module_version": "1.2.0",
            "_model_name": "LayoutModel",
            "_view_count": null,
            "_view_module": "@jupyter-widgets/base",
            "_view_module_version": "1.2.0",
            "_view_name": "LayoutView",
            "align_content": null,
            "align_items": null,
            "align_self": null,
            "border": null,
            "bottom": null,
            "display": null,
            "flex": null,
            "flex_flow": null,
            "grid_area": null,
            "grid_auto_columns": null,
            "grid_auto_flow": null,
            "grid_auto_rows": null,
            "grid_column": null,
            "grid_gap": null,
            "grid_row": null,
            "grid_template_areas": null,
            "grid_template_columns": null,
            "grid_template_rows": null,
            "height": null,
            "justify_content": null,
            "justify_items": null,
            "left": null,
            "margin": null,
            "max_height": null,
            "max_width": null,
            "min_height": null,
            "min_width": null,
            "object_fit": null,
            "object_position": null,
            "order": null,
            "overflow": null,
            "overflow_x": null,
            "overflow_y": null,
            "padding": null,
            "right": null,
            "top": null,
            "visibility": null,
            "width": null
          }
        },
        "ac4cba8ff8fe4d0ab5592e50f31511dd": {
          "model_module": "@jupyter-widgets/controls",
          "model_name": "DescriptionStyleModel",
          "model_module_version": "1.5.0",
          "state": {
            "_model_module": "@jupyter-widgets/controls",
            "_model_module_version": "1.5.0",
            "_model_name": "DescriptionStyleModel",
            "_view_count": null,
            "_view_module": "@jupyter-widgets/base",
            "_view_module_version": "1.2.0",
            "_view_name": "StyleView",
            "description_width": ""
          }
        },
        "16a0ae64a62d4f35ad986acce6945fc6": {
          "model_module": "@jupyter-widgets/base",
          "model_name": "LayoutModel",
          "model_module_version": "1.2.0",
          "state": {
            "_model_module": "@jupyter-widgets/base",
            "_model_module_version": "1.2.0",
            "_model_name": "LayoutModel",
            "_view_count": null,
            "_view_module": "@jupyter-widgets/base",
            "_view_module_version": "1.2.0",
            "_view_name": "LayoutView",
            "align_content": null,
            "align_items": null,
            "align_self": null,
            "border": null,
            "bottom": null,
            "display": null,
            "flex": null,
            "flex_flow": null,
            "grid_area": null,
            "grid_auto_columns": null,
            "grid_auto_flow": null,
            "grid_auto_rows": null,
            "grid_column": null,
            "grid_gap": null,
            "grid_row": null,
            "grid_template_areas": null,
            "grid_template_columns": null,
            "grid_template_rows": null,
            "height": null,
            "justify_content": null,
            "justify_items": null,
            "left": null,
            "margin": null,
            "max_height": null,
            "max_width": null,
            "min_height": null,
            "min_width": null,
            "object_fit": null,
            "object_position": null,
            "order": null,
            "overflow": null,
            "overflow_x": null,
            "overflow_y": null,
            "padding": null,
            "right": null,
            "top": null,
            "visibility": null,
            "width": null
          }
        },
        "fbdc8b6084a44bd48a0a2ba0814178cf": {
          "model_module": "@jupyter-widgets/controls",
          "model_name": "ProgressStyleModel",
          "model_module_version": "1.5.0",
          "state": {
            "_model_module": "@jupyter-widgets/controls",
            "_model_module_version": "1.5.0",
            "_model_name": "ProgressStyleModel",
            "_view_count": null,
            "_view_module": "@jupyter-widgets/base",
            "_view_module_version": "1.2.0",
            "_view_name": "StyleView",
            "bar_color": null,
            "description_width": ""
          }
        },
        "f9a77c9256b64386a203a64f9c466037": {
          "model_module": "@jupyter-widgets/base",
          "model_name": "LayoutModel",
          "model_module_version": "1.2.0",
          "state": {
            "_model_module": "@jupyter-widgets/base",
            "_model_module_version": "1.2.0",
            "_model_name": "LayoutModel",
            "_view_count": null,
            "_view_module": "@jupyter-widgets/base",
            "_view_module_version": "1.2.0",
            "_view_name": "LayoutView",
            "align_content": null,
            "align_items": null,
            "align_self": null,
            "border": null,
            "bottom": null,
            "display": null,
            "flex": null,
            "flex_flow": null,
            "grid_area": null,
            "grid_auto_columns": null,
            "grid_auto_flow": null,
            "grid_auto_rows": null,
            "grid_column": null,
            "grid_gap": null,
            "grid_row": null,
            "grid_template_areas": null,
            "grid_template_columns": null,
            "grid_template_rows": null,
            "height": null,
            "justify_content": null,
            "justify_items": null,
            "left": null,
            "margin": null,
            "max_height": null,
            "max_width": null,
            "min_height": null,
            "min_width": null,
            "object_fit": null,
            "object_position": null,
            "order": null,
            "overflow": null,
            "overflow_x": null,
            "overflow_y": null,
            "padding": null,
            "right": null,
            "top": null,
            "visibility": null,
            "width": null
          }
        },
        "0a4e21303b13499eaf29ed0ff0bd8e9e": {
          "model_module": "@jupyter-widgets/controls",
          "model_name": "DescriptionStyleModel",
          "model_module_version": "1.5.0",
          "state": {
            "_model_module": "@jupyter-widgets/controls",
            "_model_module_version": "1.5.0",
            "_model_name": "DescriptionStyleModel",
            "_view_count": null,
            "_view_module": "@jupyter-widgets/base",
            "_view_module_version": "1.2.0",
            "_view_name": "StyleView",
            "description_width": ""
          }
        },
        "29bbf02145eb4858ae06ef90e737be57": {
          "model_module": "@jupyter-widgets/controls",
          "model_name": "HBoxModel",
          "model_module_version": "1.5.0",
          "state": {
            "_dom_classes": [],
            "_model_module": "@jupyter-widgets/controls",
            "_model_module_version": "1.5.0",
            "_model_name": "HBoxModel",
            "_view_count": null,
            "_view_module": "@jupyter-widgets/controls",
            "_view_module_version": "1.5.0",
            "_view_name": "HBoxView",
            "box_style": "",
            "children": [
              "IPY_MODEL_274d1ea301a841dfac5dc685dec4b40b",
              "IPY_MODEL_5d57cc4c9e3b4793b2d77db435850a4e",
              "IPY_MODEL_a504806629e44048ad491217917ff5b2"
            ],
            "layout": "IPY_MODEL_327e86db45cd4d1da385f44b44093b70"
          }
        },
        "274d1ea301a841dfac5dc685dec4b40b": {
          "model_module": "@jupyter-widgets/controls",
          "model_name": "HTMLModel",
          "model_module_version": "1.5.0",
          "state": {
            "_dom_classes": [],
            "_model_module": "@jupyter-widgets/controls",
            "_model_module_version": "1.5.0",
            "_model_name": "HTMLModel",
            "_view_count": null,
            "_view_module": "@jupyter-widgets/controls",
            "_view_module_version": "1.5.0",
            "_view_name": "HTMLView",
            "description": "",
            "description_tooltip": null,
            "layout": "IPY_MODEL_78c06fff319d4c449eabeaf7cae438eb",
            "placeholder": "​",
            "style": "IPY_MODEL_ee09b9b6c7604f3da81bdfb2b31e7c8f",
            "value": "Map: 100%"
          }
        },
        "5d57cc4c9e3b4793b2d77db435850a4e": {
          "model_module": "@jupyter-widgets/controls",
          "model_name": "FloatProgressModel",
          "model_module_version": "1.5.0",
          "state": {
            "_dom_classes": [],
            "_model_module": "@jupyter-widgets/controls",
            "_model_module_version": "1.5.0",
            "_model_name": "FloatProgressModel",
            "_view_count": null,
            "_view_module": "@jupyter-widgets/controls",
            "_view_module_version": "1.5.0",
            "_view_name": "ProgressView",
            "bar_style": "",
            "description": "",
            "description_tooltip": null,
            "layout": "IPY_MODEL_5815a7d4a7cc494eb364ab40182fad7e",
            "max": 4000,
            "min": 0,
            "orientation": "horizontal",
            "style": "IPY_MODEL_a12602d1cc574ddbb352925698f97423",
            "value": 4000
          }
        },
        "a504806629e44048ad491217917ff5b2": {
          "model_module": "@jupyter-widgets/controls",
          "model_name": "HTMLModel",
          "model_module_version": "1.5.0",
          "state": {
            "_dom_classes": [],
            "_model_module": "@jupyter-widgets/controls",
            "_model_module_version": "1.5.0",
            "_model_name": "HTMLModel",
            "_view_count": null,
            "_view_module": "@jupyter-widgets/controls",
            "_view_module_version": "1.5.0",
            "_view_name": "HTMLView",
            "description": "",
            "description_tooltip": null,
            "layout": "IPY_MODEL_d794ce5c120145b2ad11da6e05bed15f",
            "placeholder": "​",
            "style": "IPY_MODEL_0c8188ba69c44b89b17cd936164cc98a",
            "value": " 4000/4000 [00:05&lt;00:00, 763.82 examples/s]"
          }
        },
        "327e86db45cd4d1da385f44b44093b70": {
          "model_module": "@jupyter-widgets/base",
          "model_name": "LayoutModel",
          "model_module_version": "1.2.0",
          "state": {
            "_model_module": "@jupyter-widgets/base",
            "_model_module_version": "1.2.0",
            "_model_name": "LayoutModel",
            "_view_count": null,
            "_view_module": "@jupyter-widgets/base",
            "_view_module_version": "1.2.0",
            "_view_name": "LayoutView",
            "align_content": null,
            "align_items": null,
            "align_self": null,
            "border": null,
            "bottom": null,
            "display": null,
            "flex": null,
            "flex_flow": null,
            "grid_area": null,
            "grid_auto_columns": null,
            "grid_auto_flow": null,
            "grid_auto_rows": null,
            "grid_column": null,
            "grid_gap": null,
            "grid_row": null,
            "grid_template_areas": null,
            "grid_template_columns": null,
            "grid_template_rows": null,
            "height": null,
            "justify_content": null,
            "justify_items": null,
            "left": null,
            "margin": null,
            "max_height": null,
            "max_width": null,
            "min_height": null,
            "min_width": null,
            "object_fit": null,
            "object_position": null,
            "order": null,
            "overflow": null,
            "overflow_x": null,
            "overflow_y": null,
            "padding": null,
            "right": null,
            "top": null,
            "visibility": "hidden",
            "width": null
          }
        },
        "78c06fff319d4c449eabeaf7cae438eb": {
          "model_module": "@jupyter-widgets/base",
          "model_name": "LayoutModel",
          "model_module_version": "1.2.0",
          "state": {
            "_model_module": "@jupyter-widgets/base",
            "_model_module_version": "1.2.0",
            "_model_name": "LayoutModel",
            "_view_count": null,
            "_view_module": "@jupyter-widgets/base",
            "_view_module_version": "1.2.0",
            "_view_name": "LayoutView",
            "align_content": null,
            "align_items": null,
            "align_self": null,
            "border": null,
            "bottom": null,
            "display": null,
            "flex": null,
            "flex_flow": null,
            "grid_area": null,
            "grid_auto_columns": null,
            "grid_auto_flow": null,
            "grid_auto_rows": null,
            "grid_column": null,
            "grid_gap": null,
            "grid_row": null,
            "grid_template_areas": null,
            "grid_template_columns": null,
            "grid_template_rows": null,
            "height": null,
            "justify_content": null,
            "justify_items": null,
            "left": null,
            "margin": null,
            "max_height": null,
            "max_width": null,
            "min_height": null,
            "min_width": null,
            "object_fit": null,
            "object_position": null,
            "order": null,
            "overflow": null,
            "overflow_x": null,
            "overflow_y": null,
            "padding": null,
            "right": null,
            "top": null,
            "visibility": null,
            "width": null
          }
        },
        "ee09b9b6c7604f3da81bdfb2b31e7c8f": {
          "model_module": "@jupyter-widgets/controls",
          "model_name": "DescriptionStyleModel",
          "model_module_version": "1.5.0",
          "state": {
            "_model_module": "@jupyter-widgets/controls",
            "_model_module_version": "1.5.0",
            "_model_name": "DescriptionStyleModel",
            "_view_count": null,
            "_view_module": "@jupyter-widgets/base",
            "_view_module_version": "1.2.0",
            "_view_name": "StyleView",
            "description_width": ""
          }
        },
        "5815a7d4a7cc494eb364ab40182fad7e": {
          "model_module": "@jupyter-widgets/base",
          "model_name": "LayoutModel",
          "model_module_version": "1.2.0",
          "state": {
            "_model_module": "@jupyter-widgets/base",
            "_model_module_version": "1.2.0",
            "_model_name": "LayoutModel",
            "_view_count": null,
            "_view_module": "@jupyter-widgets/base",
            "_view_module_version": "1.2.0",
            "_view_name": "LayoutView",
            "align_content": null,
            "align_items": null,
            "align_self": null,
            "border": null,
            "bottom": null,
            "display": null,
            "flex": null,
            "flex_flow": null,
            "grid_area": null,
            "grid_auto_columns": null,
            "grid_auto_flow": null,
            "grid_auto_rows": null,
            "grid_column": null,
            "grid_gap": null,
            "grid_row": null,
            "grid_template_areas": null,
            "grid_template_columns": null,
            "grid_template_rows": null,
            "height": null,
            "justify_content": null,
            "justify_items": null,
            "left": null,
            "margin": null,
            "max_height": null,
            "max_width": null,
            "min_height": null,
            "min_width": null,
            "object_fit": null,
            "object_position": null,
            "order": null,
            "overflow": null,
            "overflow_x": null,
            "overflow_y": null,
            "padding": null,
            "right": null,
            "top": null,
            "visibility": null,
            "width": null
          }
        },
        "a12602d1cc574ddbb352925698f97423": {
          "model_module": "@jupyter-widgets/controls",
          "model_name": "ProgressStyleModel",
          "model_module_version": "1.5.0",
          "state": {
            "_model_module": "@jupyter-widgets/controls",
            "_model_module_version": "1.5.0",
            "_model_name": "ProgressStyleModel",
            "_view_count": null,
            "_view_module": "@jupyter-widgets/base",
            "_view_module_version": "1.2.0",
            "_view_name": "StyleView",
            "bar_color": null,
            "description_width": ""
          }
        },
        "d794ce5c120145b2ad11da6e05bed15f": {
          "model_module": "@jupyter-widgets/base",
          "model_name": "LayoutModel",
          "model_module_version": "1.2.0",
          "state": {
            "_model_module": "@jupyter-widgets/base",
            "_model_module_version": "1.2.0",
            "_model_name": "LayoutModel",
            "_view_count": null,
            "_view_module": "@jupyter-widgets/base",
            "_view_module_version": "1.2.0",
            "_view_name": "LayoutView",
            "align_content": null,
            "align_items": null,
            "align_self": null,
            "border": null,
            "bottom": null,
            "display": null,
            "flex": null,
            "flex_flow": null,
            "grid_area": null,
            "grid_auto_columns": null,
            "grid_auto_flow": null,
            "grid_auto_rows": null,
            "grid_column": null,
            "grid_gap": null,
            "grid_row": null,
            "grid_template_areas": null,
            "grid_template_columns": null,
            "grid_template_rows": null,
            "height": null,
            "justify_content": null,
            "justify_items": null,
            "left": null,
            "margin": null,
            "max_height": null,
            "max_width": null,
            "min_height": null,
            "min_width": null,
            "object_fit": null,
            "object_position": null,
            "order": null,
            "overflow": null,
            "overflow_x": null,
            "overflow_y": null,
            "padding": null,
            "right": null,
            "top": null,
            "visibility": null,
            "width": null
          }
        },
        "0c8188ba69c44b89b17cd936164cc98a": {
          "model_module": "@jupyter-widgets/controls",
          "model_name": "DescriptionStyleModel",
          "model_module_version": "1.5.0",
          "state": {
            "_model_module": "@jupyter-widgets/controls",
            "_model_module_version": "1.5.0",
            "_model_name": "DescriptionStyleModel",
            "_view_count": null,
            "_view_module": "@jupyter-widgets/base",
            "_view_module_version": "1.2.0",
            "_view_name": "StyleView",
            "description_width": ""
          }
        },
        "8f13a92468de4b09871744ee10ddbcda": {
          "model_module": "@jupyter-widgets/controls",
          "model_name": "HBoxModel",
          "model_module_version": "1.5.0",
          "state": {
            "_dom_classes": [],
            "_model_module": "@jupyter-widgets/controls",
            "_model_module_version": "1.5.0",
            "_model_name": "HBoxModel",
            "_view_count": null,
            "_view_module": "@jupyter-widgets/controls",
            "_view_module_version": "1.5.0",
            "_view_name": "HBoxView",
            "box_style": "",
            "children": [
              "IPY_MODEL_47e21dfe0ffa496fa707d550d960f1e8",
              "IPY_MODEL_73b746d89b8b4f6493432aa3634e867d",
              "IPY_MODEL_1254bd0afc304b138fc5ee7d7690c580"
            ],
            "layout": "IPY_MODEL_affb1077f4cd4dac89e411092f49dd8c"
          }
        },
        "47e21dfe0ffa496fa707d550d960f1e8": {
          "model_module": "@jupyter-widgets/controls",
          "model_name": "HTMLModel",
          "model_module_version": "1.5.0",
          "state": {
            "_dom_classes": [],
            "_model_module": "@jupyter-widgets/controls",
            "_model_module_version": "1.5.0",
            "_model_name": "HTMLModel",
            "_view_count": null,
            "_view_module": "@jupyter-widgets/controls",
            "_view_module_version": "1.5.0",
            "_view_name": "HTMLView",
            "description": "",
            "description_tooltip": null,
            "layout": "IPY_MODEL_4a03443206264d1c9fbf9d3ca97a9b22",
            "placeholder": "​",
            "style": "IPY_MODEL_8b3a827df8d94c7e9502aa823722c75c",
            "value": "Map: 100%"
          }
        },
        "73b746d89b8b4f6493432aa3634e867d": {
          "model_module": "@jupyter-widgets/controls",
          "model_name": "FloatProgressModel",
          "model_module_version": "1.5.0",
          "state": {
            "_dom_classes": [],
            "_model_module": "@jupyter-widgets/controls",
            "_model_module_version": "1.5.0",
            "_model_name": "FloatProgressModel",
            "_view_count": null,
            "_view_module": "@jupyter-widgets/controls",
            "_view_module_version": "1.5.0",
            "_view_name": "ProgressView",
            "bar_style": "",
            "description": "",
            "description_tooltip": null,
            "layout": "IPY_MODEL_f69e22d743f444fab819649bf1331115",
            "max": 2000,
            "min": 0,
            "orientation": "horizontal",
            "style": "IPY_MODEL_5d423742d083468f851441ab41b901ac",
            "value": 2000
          }
        },
        "1254bd0afc304b138fc5ee7d7690c580": {
          "model_module": "@jupyter-widgets/controls",
          "model_name": "HTMLModel",
          "model_module_version": "1.5.0",
          "state": {
            "_dom_classes": [],
            "_model_module": "@jupyter-widgets/controls",
            "_model_module_version": "1.5.0",
            "_model_name": "HTMLModel",
            "_view_count": null,
            "_view_module": "@jupyter-widgets/controls",
            "_view_module_version": "1.5.0",
            "_view_name": "HTMLView",
            "description": "",
            "description_tooltip": null,
            "layout": "IPY_MODEL_29b1354a051e41d988dded33ede7f2a6",
            "placeholder": "​",
            "style": "IPY_MODEL_e37f6c1b90b6475fad7c14b2c8dbe6dd",
            "value": " 2000/2000 [00:01&lt;00:00, 1197.62 examples/s]"
          }
        },
        "affb1077f4cd4dac89e411092f49dd8c": {
          "model_module": "@jupyter-widgets/base",
          "model_name": "LayoutModel",
          "model_module_version": "1.2.0",
          "state": {
            "_model_module": "@jupyter-widgets/base",
            "_model_module_version": "1.2.0",
            "_model_name": "LayoutModel",
            "_view_count": null,
            "_view_module": "@jupyter-widgets/base",
            "_view_module_version": "1.2.0",
            "_view_name": "LayoutView",
            "align_content": null,
            "align_items": null,
            "align_self": null,
            "border": null,
            "bottom": null,
            "display": null,
            "flex": null,
            "flex_flow": null,
            "grid_area": null,
            "grid_auto_columns": null,
            "grid_auto_flow": null,
            "grid_auto_rows": null,
            "grid_column": null,
            "grid_gap": null,
            "grid_row": null,
            "grid_template_areas": null,
            "grid_template_columns": null,
            "grid_template_rows": null,
            "height": null,
            "justify_content": null,
            "justify_items": null,
            "left": null,
            "margin": null,
            "max_height": null,
            "max_width": null,
            "min_height": null,
            "min_width": null,
            "object_fit": null,
            "object_position": null,
            "order": null,
            "overflow": null,
            "overflow_x": null,
            "overflow_y": null,
            "padding": null,
            "right": null,
            "top": null,
            "visibility": "hidden",
            "width": null
          }
        },
        "4a03443206264d1c9fbf9d3ca97a9b22": {
          "model_module": "@jupyter-widgets/base",
          "model_name": "LayoutModel",
          "model_module_version": "1.2.0",
          "state": {
            "_model_module": "@jupyter-widgets/base",
            "_model_module_version": "1.2.0",
            "_model_name": "LayoutModel",
            "_view_count": null,
            "_view_module": "@jupyter-widgets/base",
            "_view_module_version": "1.2.0",
            "_view_name": "LayoutView",
            "align_content": null,
            "align_items": null,
            "align_self": null,
            "border": null,
            "bottom": null,
            "display": null,
            "flex": null,
            "flex_flow": null,
            "grid_area": null,
            "grid_auto_columns": null,
            "grid_auto_flow": null,
            "grid_auto_rows": null,
            "grid_column": null,
            "grid_gap": null,
            "grid_row": null,
            "grid_template_areas": null,
            "grid_template_columns": null,
            "grid_template_rows": null,
            "height": null,
            "justify_content": null,
            "justify_items": null,
            "left": null,
            "margin": null,
            "max_height": null,
            "max_width": null,
            "min_height": null,
            "min_width": null,
            "object_fit": null,
            "object_position": null,
            "order": null,
            "overflow": null,
            "overflow_x": null,
            "overflow_y": null,
            "padding": null,
            "right": null,
            "top": null,
            "visibility": null,
            "width": null
          }
        },
        "8b3a827df8d94c7e9502aa823722c75c": {
          "model_module": "@jupyter-widgets/controls",
          "model_name": "DescriptionStyleModel",
          "model_module_version": "1.5.0",
          "state": {
            "_model_module": "@jupyter-widgets/controls",
            "_model_module_version": "1.5.0",
            "_model_name": "DescriptionStyleModel",
            "_view_count": null,
            "_view_module": "@jupyter-widgets/base",
            "_view_module_version": "1.2.0",
            "_view_name": "StyleView",
            "description_width": ""
          }
        },
        "f69e22d743f444fab819649bf1331115": {
          "model_module": "@jupyter-widgets/base",
          "model_name": "LayoutModel",
          "model_module_version": "1.2.0",
          "state": {
            "_model_module": "@jupyter-widgets/base",
            "_model_module_version": "1.2.0",
            "_model_name": "LayoutModel",
            "_view_count": null,
            "_view_module": "@jupyter-widgets/base",
            "_view_module_version": "1.2.0",
            "_view_name": "LayoutView",
            "align_content": null,
            "align_items": null,
            "align_self": null,
            "border": null,
            "bottom": null,
            "display": null,
            "flex": null,
            "flex_flow": null,
            "grid_area": null,
            "grid_auto_columns": null,
            "grid_auto_flow": null,
            "grid_auto_rows": null,
            "grid_column": null,
            "grid_gap": null,
            "grid_row": null,
            "grid_template_areas": null,
            "grid_template_columns": null,
            "grid_template_rows": null,
            "height": null,
            "justify_content": null,
            "justify_items": null,
            "left": null,
            "margin": null,
            "max_height": null,
            "max_width": null,
            "min_height": null,
            "min_width": null,
            "object_fit": null,
            "object_position": null,
            "order": null,
            "overflow": null,
            "overflow_x": null,
            "overflow_y": null,
            "padding": null,
            "right": null,
            "top": null,
            "visibility": null,
            "width": null
          }
        },
        "5d423742d083468f851441ab41b901ac": {
          "model_module": "@jupyter-widgets/controls",
          "model_name": "ProgressStyleModel",
          "model_module_version": "1.5.0",
          "state": {
            "_model_module": "@jupyter-widgets/controls",
            "_model_module_version": "1.5.0",
            "_model_name": "ProgressStyleModel",
            "_view_count": null,
            "_view_module": "@jupyter-widgets/base",
            "_view_module_version": "1.2.0",
            "_view_name": "StyleView",
            "bar_color": null,
            "description_width": ""
          }
        },
        "29b1354a051e41d988dded33ede7f2a6": {
          "model_module": "@jupyter-widgets/base",
          "model_name": "LayoutModel",
          "model_module_version": "1.2.0",
          "state": {
            "_model_module": "@jupyter-widgets/base",
            "_model_module_version": "1.2.0",
            "_model_name": "LayoutModel",
            "_view_count": null,
            "_view_module": "@jupyter-widgets/base",
            "_view_module_version": "1.2.0",
            "_view_name": "LayoutView",
            "align_content": null,
            "align_items": null,
            "align_self": null,
            "border": null,
            "bottom": null,
            "display": null,
            "flex": null,
            "flex_flow": null,
            "grid_area": null,
            "grid_auto_columns": null,
            "grid_auto_flow": null,
            "grid_auto_rows": null,
            "grid_column": null,
            "grid_gap": null,
            "grid_row": null,
            "grid_template_areas": null,
            "grid_template_columns": null,
            "grid_template_rows": null,
            "height": null,
            "justify_content": null,
            "justify_items": null,
            "left": null,
            "margin": null,
            "max_height": null,
            "max_width": null,
            "min_height": null,
            "min_width": null,
            "object_fit": null,
            "object_position": null,
            "order": null,
            "overflow": null,
            "overflow_x": null,
            "overflow_y": null,
            "padding": null,
            "right": null,
            "top": null,
            "visibility": null,
            "width": null
          }
        },
        "e37f6c1b90b6475fad7c14b2c8dbe6dd": {
          "model_module": "@jupyter-widgets/controls",
          "model_name": "DescriptionStyleModel",
          "model_module_version": "1.5.0",
          "state": {
            "_model_module": "@jupyter-widgets/controls",
            "_model_module_version": "1.5.0",
            "_model_name": "DescriptionStyleModel",
            "_view_count": null,
            "_view_module": "@jupyter-widgets/base",
            "_view_module_version": "1.2.0",
            "_view_name": "StyleView",
            "description_width": ""
          }
        }
      }
    }
  },
  "cells": [
    {
      "cell_type": "markdown",
      "source": [
        "# RoBERTa-LSTM model for sentiment analysis"
      ],
      "metadata": {
        "id": "yMF9_8nyljeX"
      }
    },
    {
      "cell_type": "code",
      "source": [
        "!pip install transformers loguru datasets peft -q"
      ],
      "metadata": {
        "id": "uQqJQySGQJG4",
        "colab": {
          "base_uri": "https://localhost:8080/"
        },
        "outputId": "926270df-8fb1-432f-c960-6248d40f6498"
      },
      "execution_count": 2,
      "outputs": [
        {
          "output_type": "stream",
          "name": "stdout",
          "text": [
            "\u001b[2K     \u001b[90m━━━━━━━━━━━━━━━━━━━━━━━━━━━━━━━━━━━━━━━━\u001b[0m \u001b[32m7.0/7.0 MB\u001b[0m \u001b[31m26.3 MB/s\u001b[0m eta \u001b[36m0:00:00\u001b[0m\n",
            "\u001b[2K     \u001b[90m━━━━━━━━━━━━━━━━━━━━━━━━━━━━━━━━━━━━━━━━\u001b[0m \u001b[32m60.0/60.0 kB\u001b[0m \u001b[31m6.6 MB/s\u001b[0m eta \u001b[36m0:00:00\u001b[0m\n",
            "\u001b[2K     \u001b[90m━━━━━━━━━━━━━━━━━━━━━━━━━━━━━━━━━━━━━━\u001b[0m \u001b[32m474.6/474.6 kB\u001b[0m \u001b[31m26.2 MB/s\u001b[0m eta \u001b[36m0:00:00\u001b[0m\n",
            "\u001b[2K     \u001b[90m━━━━━━━━━━━━━━━━━━━━━━━━━━━━━━━━━━━━━━━━\u001b[0m \u001b[32m56.8/56.8 kB\u001b[0m \u001b[31m6.8 MB/s\u001b[0m eta \u001b[36m0:00:00\u001b[0m\n",
            "\u001b[2K     \u001b[90m━━━━━━━━━━━━━━━━━━━━━━━━━━━━━━━━━━━━━━━━\u001b[0m \u001b[32m7.8/7.8 MB\u001b[0m \u001b[31m101.2 MB/s\u001b[0m eta \u001b[36m0:00:00\u001b[0m\n",
            "\u001b[2K     \u001b[90m━━━━━━━━━━━━━━━━━━━━━━━━━━━━━━━━━━━━━━\u001b[0m \u001b[32m224.5/224.5 kB\u001b[0m \u001b[31m27.0 MB/s\u001b[0m eta \u001b[36m0:00:00\u001b[0m\n",
            "\u001b[2K     \u001b[90m━━━━━━━━━━━━━━━━━━━━━━━━━━━━━━━━━━━━━━━━\u001b[0m \u001b[32m1.0/1.0 MB\u001b[0m \u001b[31m69.6 MB/s\u001b[0m eta \u001b[36m0:00:00\u001b[0m\n",
            "\u001b[2K     \u001b[90m━━━━━━━━━━━━━━━━━━━━━━━━━━━━━━━━━━━━━━\u001b[0m \u001b[32m110.5/110.5 kB\u001b[0m \u001b[31m15.4 MB/s\u001b[0m eta \u001b[36m0:00:00\u001b[0m\n",
            "\u001b[2K     \u001b[90m━━━━━━━━━━━━━━━━━━━━━━━━━━━━━━━━━━━━━━\u001b[0m \u001b[32m212.5/212.5 kB\u001b[0m \u001b[31m26.1 MB/s\u001b[0m eta \u001b[36m0:00:00\u001b[0m\n",
            "\u001b[2K     \u001b[90m━━━━━━━━━━━━━━━━━━━━━━━━━━━━━━━━━━━━━━\u001b[0m \u001b[32m134.3/134.3 kB\u001b[0m \u001b[31m18.2 MB/s\u001b[0m eta \u001b[36m0:00:00\u001b[0m\n",
            "\u001b[2K     \u001b[90m━━━━━━━━━━━━━━━━━━━━━━━━━━━━━━━━━━━━━━\u001b[0m \u001b[32m215.3/215.3 kB\u001b[0m \u001b[31m26.5 MB/s\u001b[0m eta \u001b[36m0:00:00\u001b[0m\n",
            "\u001b[2K     \u001b[90m━━━━━━━━━━━━━━━━━━━━━━━━━━━━━━━━━━━━━━\u001b[0m \u001b[32m149.6/149.6 kB\u001b[0m \u001b[31m19.4 MB/s\u001b[0m eta \u001b[36m0:00:00\u001b[0m\n",
            "\u001b[2K     \u001b[90m━━━━━━━━━━━━━━━━━━━━━━━━━━━━━━━━━━━━━━\u001b[0m \u001b[32m114.5/114.5 kB\u001b[0m \u001b[31m15.5 MB/s\u001b[0m eta \u001b[36m0:00:00\u001b[0m\n",
            "\u001b[2K     \u001b[90m━━━━━━━━━━━━━━━━━━━━━━━━━━━━━━━━━━━━━━\u001b[0m \u001b[32m268.8/268.8 kB\u001b[0m \u001b[31m32.8 MB/s\u001b[0m eta \u001b[36m0:00:00\u001b[0m\n",
            "\u001b[?25h"
          ]
        }
      ]
    },
    {
      "cell_type": "markdown",
      "source": [
        "## Imports"
      ],
      "metadata": {
        "id": "PSt8IM1Qq__p"
      }
    },
    {
      "cell_type": "code",
      "source": [
        "import numpy as np\n",
        "import pandas as pd\n",
        "import re\n",
        "import matplotlib as mpl\n",
        "import matplotlib.pyplot as plt\n",
        "import seaborn as sns\n",
        "from loguru import logger\n",
        "from tqdm import trange\n",
        "import pickle\n",
        "from IPython.display import clear_output"
      ],
      "metadata": {
        "id": "K4kOuKp1lia6"
      },
      "execution_count": 4,
      "outputs": []
    },
    {
      "cell_type": "code",
      "execution_count": 3,
      "metadata": {
        "id": "9lTCKa4alcQe"
      },
      "outputs": [],
      "source": [
        "import torch\n",
        "import torch.nn as nn\n",
        "import torch.nn.functional as F\n",
        "from torch.utils.data import Dataset, DataLoader\n",
        "from transformers import RobertaModel, RobertaTokenizer\n",
        "import tokenizers\n",
        "import nltk\n",
        "from nltk.corpus import stopwords\n",
        "from nltk.stem import PorterStemmer\n",
        "from sklearn.feature_extraction.text import CountVectorizer\n",
        "\n",
        "import seaborn as sns\n",
        "import matplotlib.pyplot as plt\n",
        "\n",
        "from tqdm.auto import tqdm\n",
        "import time"
      ]
    },
    {
      "cell_type": "code",
      "source": [
        "from google.colab import drive\n",
        "from tqdm.notebook import tqdm\n",
        "from tqdm import trange\n",
        "\n",
        "\n",
        "drive.mount(\"/drive\")"
      ],
      "metadata": {
        "colab": {
          "base_uri": "https://localhost:8080/"
        },
        "id": "d7xeWKQ5li2f",
        "outputId": "10cf8f58-2338-4a55-9614-ab647ac67cef"
      },
      "execution_count": 5,
      "outputs": [
        {
          "output_type": "stream",
          "name": "stdout",
          "text": [
            "Mounted at /drive\n"
          ]
        }
      ]
    },
    {
      "cell_type": "markdown",
      "source": [
        "# Data preparation and vectorization"
      ],
      "metadata": {
        "id": "6WDeYf2KRDRp"
      }
    },
    {
      "cell_type": "code",
      "source": [
        "path = \"/drive/My Drive/Colab Notebooks/sentiment analysis/IMDB Dataset.csv\"\n",
        "\n",
        "data = pd.read_csv(path)\n",
        "data"
      ],
      "metadata": {
        "colab": {
          "base_uri": "https://localhost:8080/",
          "height": 423
        },
        "id": "FKe5mVLrQyu2",
        "outputId": "8b6c609b-15ea-4af2-d42b-363e9688d4bc"
      },
      "execution_count": 6,
      "outputs": [
        {
          "output_type": "execute_result",
          "data": {
            "text/plain": [
              "                                                  review sentiment\n",
              "0      One of the other reviewers has mentioned that ...  positive\n",
              "1      A wonderful little production. <br /><br />The...  positive\n",
              "2      I thought this was a wonderful way to spend ti...  positive\n",
              "3      Basically there's a family where a little boy ...  negative\n",
              "4      Petter Mattei's \"Love in the Time of Money\" is...  positive\n",
              "...                                                  ...       ...\n",
              "49995  I thought this movie did a down right good job...  positive\n",
              "49996  Bad plot, bad dialogue, bad acting, idiotic di...  negative\n",
              "49997  I am a Catholic taught in parochial elementary...  negative\n",
              "49998  I'm going to have to disagree with the previou...  negative\n",
              "49999  No one expects the Star Trek movies to be high...  negative\n",
              "\n",
              "[50000 rows x 2 columns]"
            ],
            "text/html": [
              "\n",
              "  <div id=\"df-2f87579e-e892-4337-bf70-24a7fcfa0147\">\n",
              "    <div class=\"colab-df-container\">\n",
              "      <div>\n",
              "<style scoped>\n",
              "    .dataframe tbody tr th:only-of-type {\n",
              "        vertical-align: middle;\n",
              "    }\n",
              "\n",
              "    .dataframe tbody tr th {\n",
              "        vertical-align: top;\n",
              "    }\n",
              "\n",
              "    .dataframe thead th {\n",
              "        text-align: right;\n",
              "    }\n",
              "</style>\n",
              "<table border=\"1\" class=\"dataframe\">\n",
              "  <thead>\n",
              "    <tr style=\"text-align: right;\">\n",
              "      <th></th>\n",
              "      <th>review</th>\n",
              "      <th>sentiment</th>\n",
              "    </tr>\n",
              "  </thead>\n",
              "  <tbody>\n",
              "    <tr>\n",
              "      <th>0</th>\n",
              "      <td>One of the other reviewers has mentioned that ...</td>\n",
              "      <td>positive</td>\n",
              "    </tr>\n",
              "    <tr>\n",
              "      <th>1</th>\n",
              "      <td>A wonderful little production. &lt;br /&gt;&lt;br /&gt;The...</td>\n",
              "      <td>positive</td>\n",
              "    </tr>\n",
              "    <tr>\n",
              "      <th>2</th>\n",
              "      <td>I thought this was a wonderful way to spend ti...</td>\n",
              "      <td>positive</td>\n",
              "    </tr>\n",
              "    <tr>\n",
              "      <th>3</th>\n",
              "      <td>Basically there's a family where a little boy ...</td>\n",
              "      <td>negative</td>\n",
              "    </tr>\n",
              "    <tr>\n",
              "      <th>4</th>\n",
              "      <td>Petter Mattei's \"Love in the Time of Money\" is...</td>\n",
              "      <td>positive</td>\n",
              "    </tr>\n",
              "    <tr>\n",
              "      <th>...</th>\n",
              "      <td>...</td>\n",
              "      <td>...</td>\n",
              "    </tr>\n",
              "    <tr>\n",
              "      <th>49995</th>\n",
              "      <td>I thought this movie did a down right good job...</td>\n",
              "      <td>positive</td>\n",
              "    </tr>\n",
              "    <tr>\n",
              "      <th>49996</th>\n",
              "      <td>Bad plot, bad dialogue, bad acting, idiotic di...</td>\n",
              "      <td>negative</td>\n",
              "    </tr>\n",
              "    <tr>\n",
              "      <th>49997</th>\n",
              "      <td>I am a Catholic taught in parochial elementary...</td>\n",
              "      <td>negative</td>\n",
              "    </tr>\n",
              "    <tr>\n",
              "      <th>49998</th>\n",
              "      <td>I'm going to have to disagree with the previou...</td>\n",
              "      <td>negative</td>\n",
              "    </tr>\n",
              "    <tr>\n",
              "      <th>49999</th>\n",
              "      <td>No one expects the Star Trek movies to be high...</td>\n",
              "      <td>negative</td>\n",
              "    </tr>\n",
              "  </tbody>\n",
              "</table>\n",
              "<p>50000 rows × 2 columns</p>\n",
              "</div>\n",
              "      <button class=\"colab-df-convert\" onclick=\"convertToInteractive('df-2f87579e-e892-4337-bf70-24a7fcfa0147')\"\n",
              "              title=\"Convert this dataframe to an interactive table.\"\n",
              "              style=\"display:none;\">\n",
              "        \n",
              "  <svg xmlns=\"http://www.w3.org/2000/svg\" height=\"24px\"viewBox=\"0 0 24 24\"\n",
              "       width=\"24px\">\n",
              "    <path d=\"M0 0h24v24H0V0z\" fill=\"none\"/>\n",
              "    <path d=\"M18.56 5.44l.94 2.06.94-2.06 2.06-.94-2.06-.94-.94-2.06-.94 2.06-2.06.94zm-11 1L8.5 8.5l.94-2.06 2.06-.94-2.06-.94L8.5 2.5l-.94 2.06-2.06.94zm10 10l.94 2.06.94-2.06 2.06-.94-2.06-.94-.94-2.06-.94 2.06-2.06.94z\"/><path d=\"M17.41 7.96l-1.37-1.37c-.4-.4-.92-.59-1.43-.59-.52 0-1.04.2-1.43.59L10.3 9.45l-7.72 7.72c-.78.78-.78 2.05 0 2.83L4 21.41c.39.39.9.59 1.41.59.51 0 1.02-.2 1.41-.59l7.78-7.78 2.81-2.81c.8-.78.8-2.07 0-2.86zM5.41 20L4 18.59l7.72-7.72 1.47 1.35L5.41 20z\"/>\n",
              "  </svg>\n",
              "      </button>\n",
              "      \n",
              "  <style>\n",
              "    .colab-df-container {\n",
              "      display:flex;\n",
              "      flex-wrap:wrap;\n",
              "      gap: 12px;\n",
              "    }\n",
              "\n",
              "    .colab-df-convert {\n",
              "      background-color: #E8F0FE;\n",
              "      border: none;\n",
              "      border-radius: 50%;\n",
              "      cursor: pointer;\n",
              "      display: none;\n",
              "      fill: #1967D2;\n",
              "      height: 32px;\n",
              "      padding: 0 0 0 0;\n",
              "      width: 32px;\n",
              "    }\n",
              "\n",
              "    .colab-df-convert:hover {\n",
              "      background-color: #E2EBFA;\n",
              "      box-shadow: 0px 1px 2px rgba(60, 64, 67, 0.3), 0px 1px 3px 1px rgba(60, 64, 67, 0.15);\n",
              "      fill: #174EA6;\n",
              "    }\n",
              "\n",
              "    [theme=dark] .colab-df-convert {\n",
              "      background-color: #3B4455;\n",
              "      fill: #D2E3FC;\n",
              "    }\n",
              "\n",
              "    [theme=dark] .colab-df-convert:hover {\n",
              "      background-color: #434B5C;\n",
              "      box-shadow: 0px 1px 3px 1px rgba(0, 0, 0, 0.15);\n",
              "      filter: drop-shadow(0px 1px 2px rgba(0, 0, 0, 0.3));\n",
              "      fill: #FFFFFF;\n",
              "    }\n",
              "  </style>\n",
              "\n",
              "      <script>\n",
              "        const buttonEl =\n",
              "          document.querySelector('#df-2f87579e-e892-4337-bf70-24a7fcfa0147 button.colab-df-convert');\n",
              "        buttonEl.style.display =\n",
              "          google.colab.kernel.accessAllowed ? 'block' : 'none';\n",
              "\n",
              "        async function convertToInteractive(key) {\n",
              "          const element = document.querySelector('#df-2f87579e-e892-4337-bf70-24a7fcfa0147');\n",
              "          const dataTable =\n",
              "            await google.colab.kernel.invokeFunction('convertToInteractive',\n",
              "                                                     [key], {});\n",
              "          if (!dataTable) return;\n",
              "\n",
              "          const docLinkHtml = 'Like what you see? Visit the ' +\n",
              "            '<a target=\"_blank\" href=https://colab.research.google.com/notebooks/data_table.ipynb>data table notebook</a>'\n",
              "            + ' to learn more about interactive tables.';\n",
              "          element.innerHTML = '';\n",
              "          dataTable['output_type'] = 'display_data';\n",
              "          await google.colab.output.renderOutput(dataTable, element);\n",
              "          const docLink = document.createElement('div');\n",
              "          docLink.innerHTML = docLinkHtml;\n",
              "          element.appendChild(docLink);\n",
              "        }\n",
              "      </script>\n",
              "    </div>\n",
              "  </div>\n",
              "  "
            ]
          },
          "metadata": {},
          "execution_count": 6
        }
      ]
    },
    {
      "cell_type": "markdown",
      "source": [
        "## Encode sentiment feature with 0 and 1"
      ],
      "metadata": {
        "id": "dR8Q1hGqrEv1"
      }
    },
    {
      "cell_type": "code",
      "source": [
        "data['num_sentiment'] = data['sentiment'].apply(lambda x: 1 if x == 'positive' else 0)\n",
        "data"
      ],
      "metadata": {
        "colab": {
          "base_uri": "https://localhost:8080/",
          "height": 423
        },
        "id": "N4HLsRNoSDdQ",
        "outputId": "1da3bc64-611d-4087-a112-f61c647a465f"
      },
      "execution_count": 7,
      "outputs": [
        {
          "output_type": "execute_result",
          "data": {
            "text/plain": [
              "                                                  review sentiment  \\\n",
              "0      One of the other reviewers has mentioned that ...  positive   \n",
              "1      A wonderful little production. <br /><br />The...  positive   \n",
              "2      I thought this was a wonderful way to spend ti...  positive   \n",
              "3      Basically there's a family where a little boy ...  negative   \n",
              "4      Petter Mattei's \"Love in the Time of Money\" is...  positive   \n",
              "...                                                  ...       ...   \n",
              "49995  I thought this movie did a down right good job...  positive   \n",
              "49996  Bad plot, bad dialogue, bad acting, idiotic di...  negative   \n",
              "49997  I am a Catholic taught in parochial elementary...  negative   \n",
              "49998  I'm going to have to disagree with the previou...  negative   \n",
              "49999  No one expects the Star Trek movies to be high...  negative   \n",
              "\n",
              "       num_sentiment  \n",
              "0                  1  \n",
              "1                  1  \n",
              "2                  1  \n",
              "3                  0  \n",
              "4                  1  \n",
              "...              ...  \n",
              "49995              1  \n",
              "49996              0  \n",
              "49997              0  \n",
              "49998              0  \n",
              "49999              0  \n",
              "\n",
              "[50000 rows x 3 columns]"
            ],
            "text/html": [
              "\n",
              "  <div id=\"df-b064b8cc-50e7-4c87-ac3e-9778cbf0b229\">\n",
              "    <div class=\"colab-df-container\">\n",
              "      <div>\n",
              "<style scoped>\n",
              "    .dataframe tbody tr th:only-of-type {\n",
              "        vertical-align: middle;\n",
              "    }\n",
              "\n",
              "    .dataframe tbody tr th {\n",
              "        vertical-align: top;\n",
              "    }\n",
              "\n",
              "    .dataframe thead th {\n",
              "        text-align: right;\n",
              "    }\n",
              "</style>\n",
              "<table border=\"1\" class=\"dataframe\">\n",
              "  <thead>\n",
              "    <tr style=\"text-align: right;\">\n",
              "      <th></th>\n",
              "      <th>review</th>\n",
              "      <th>sentiment</th>\n",
              "      <th>num_sentiment</th>\n",
              "    </tr>\n",
              "  </thead>\n",
              "  <tbody>\n",
              "    <tr>\n",
              "      <th>0</th>\n",
              "      <td>One of the other reviewers has mentioned that ...</td>\n",
              "      <td>positive</td>\n",
              "      <td>1</td>\n",
              "    </tr>\n",
              "    <tr>\n",
              "      <th>1</th>\n",
              "      <td>A wonderful little production. &lt;br /&gt;&lt;br /&gt;The...</td>\n",
              "      <td>positive</td>\n",
              "      <td>1</td>\n",
              "    </tr>\n",
              "    <tr>\n",
              "      <th>2</th>\n",
              "      <td>I thought this was a wonderful way to spend ti...</td>\n",
              "      <td>positive</td>\n",
              "      <td>1</td>\n",
              "    </tr>\n",
              "    <tr>\n",
              "      <th>3</th>\n",
              "      <td>Basically there's a family where a little boy ...</td>\n",
              "      <td>negative</td>\n",
              "      <td>0</td>\n",
              "    </tr>\n",
              "    <tr>\n",
              "      <th>4</th>\n",
              "      <td>Petter Mattei's \"Love in the Time of Money\" is...</td>\n",
              "      <td>positive</td>\n",
              "      <td>1</td>\n",
              "    </tr>\n",
              "    <tr>\n",
              "      <th>...</th>\n",
              "      <td>...</td>\n",
              "      <td>...</td>\n",
              "      <td>...</td>\n",
              "    </tr>\n",
              "    <tr>\n",
              "      <th>49995</th>\n",
              "      <td>I thought this movie did a down right good job...</td>\n",
              "      <td>positive</td>\n",
              "      <td>1</td>\n",
              "    </tr>\n",
              "    <tr>\n",
              "      <th>49996</th>\n",
              "      <td>Bad plot, bad dialogue, bad acting, idiotic di...</td>\n",
              "      <td>negative</td>\n",
              "      <td>0</td>\n",
              "    </tr>\n",
              "    <tr>\n",
              "      <th>49997</th>\n",
              "      <td>I am a Catholic taught in parochial elementary...</td>\n",
              "      <td>negative</td>\n",
              "      <td>0</td>\n",
              "    </tr>\n",
              "    <tr>\n",
              "      <th>49998</th>\n",
              "      <td>I'm going to have to disagree with the previou...</td>\n",
              "      <td>negative</td>\n",
              "      <td>0</td>\n",
              "    </tr>\n",
              "    <tr>\n",
              "      <th>49999</th>\n",
              "      <td>No one expects the Star Trek movies to be high...</td>\n",
              "      <td>negative</td>\n",
              "      <td>0</td>\n",
              "    </tr>\n",
              "  </tbody>\n",
              "</table>\n",
              "<p>50000 rows × 3 columns</p>\n",
              "</div>\n",
              "      <button class=\"colab-df-convert\" onclick=\"convertToInteractive('df-b064b8cc-50e7-4c87-ac3e-9778cbf0b229')\"\n",
              "              title=\"Convert this dataframe to an interactive table.\"\n",
              "              style=\"display:none;\">\n",
              "        \n",
              "  <svg xmlns=\"http://www.w3.org/2000/svg\" height=\"24px\"viewBox=\"0 0 24 24\"\n",
              "       width=\"24px\">\n",
              "    <path d=\"M0 0h24v24H0V0z\" fill=\"none\"/>\n",
              "    <path d=\"M18.56 5.44l.94 2.06.94-2.06 2.06-.94-2.06-.94-.94-2.06-.94 2.06-2.06.94zm-11 1L8.5 8.5l.94-2.06 2.06-.94-2.06-.94L8.5 2.5l-.94 2.06-2.06.94zm10 10l.94 2.06.94-2.06 2.06-.94-2.06-.94-.94-2.06-.94 2.06-2.06.94z\"/><path d=\"M17.41 7.96l-1.37-1.37c-.4-.4-.92-.59-1.43-.59-.52 0-1.04.2-1.43.59L10.3 9.45l-7.72 7.72c-.78.78-.78 2.05 0 2.83L4 21.41c.39.39.9.59 1.41.59.51 0 1.02-.2 1.41-.59l7.78-7.78 2.81-2.81c.8-.78.8-2.07 0-2.86zM5.41 20L4 18.59l7.72-7.72 1.47 1.35L5.41 20z\"/>\n",
              "  </svg>\n",
              "      </button>\n",
              "      \n",
              "  <style>\n",
              "    .colab-df-container {\n",
              "      display:flex;\n",
              "      flex-wrap:wrap;\n",
              "      gap: 12px;\n",
              "    }\n",
              "\n",
              "    .colab-df-convert {\n",
              "      background-color: #E8F0FE;\n",
              "      border: none;\n",
              "      border-radius: 50%;\n",
              "      cursor: pointer;\n",
              "      display: none;\n",
              "      fill: #1967D2;\n",
              "      height: 32px;\n",
              "      padding: 0 0 0 0;\n",
              "      width: 32px;\n",
              "    }\n",
              "\n",
              "    .colab-df-convert:hover {\n",
              "      background-color: #E2EBFA;\n",
              "      box-shadow: 0px 1px 2px rgba(60, 64, 67, 0.3), 0px 1px 3px 1px rgba(60, 64, 67, 0.15);\n",
              "      fill: #174EA6;\n",
              "    }\n",
              "\n",
              "    [theme=dark] .colab-df-convert {\n",
              "      background-color: #3B4455;\n",
              "      fill: #D2E3FC;\n",
              "    }\n",
              "\n",
              "    [theme=dark] .colab-df-convert:hover {\n",
              "      background-color: #434B5C;\n",
              "      box-shadow: 0px 1px 3px 1px rgba(0, 0, 0, 0.15);\n",
              "      filter: drop-shadow(0px 1px 2px rgba(0, 0, 0, 0.3));\n",
              "      fill: #FFFFFF;\n",
              "    }\n",
              "  </style>\n",
              "\n",
              "      <script>\n",
              "        const buttonEl =\n",
              "          document.querySelector('#df-b064b8cc-50e7-4c87-ac3e-9778cbf0b229 button.colab-df-convert');\n",
              "        buttonEl.style.display =\n",
              "          google.colab.kernel.accessAllowed ? 'block' : 'none';\n",
              "\n",
              "        async function convertToInteractive(key) {\n",
              "          const element = document.querySelector('#df-b064b8cc-50e7-4c87-ac3e-9778cbf0b229');\n",
              "          const dataTable =\n",
              "            await google.colab.kernel.invokeFunction('convertToInteractive',\n",
              "                                                     [key], {});\n",
              "          if (!dataTable) return;\n",
              "\n",
              "          const docLinkHtml = 'Like what you see? Visit the ' +\n",
              "            '<a target=\"_blank\" href=https://colab.research.google.com/notebooks/data_table.ipynb>data table notebook</a>'\n",
              "            + ' to learn more about interactive tables.';\n",
              "          element.innerHTML = '';\n",
              "          dataTable['output_type'] = 'display_data';\n",
              "          await google.colab.output.renderOutput(dataTable, element);\n",
              "          const docLink = document.createElement('div');\n",
              "          docLink.innerHTML = docLinkHtml;\n",
              "          element.appendChild(docLink);\n",
              "        }\n",
              "      </script>\n",
              "    </div>\n",
              "  </div>\n",
              "  "
            ]
          },
          "metadata": {},
          "execution_count": 7
        }
      ]
    },
    {
      "cell_type": "markdown",
      "source": [
        "### Dataset is balanced so oversampling or downsampling techniques aren't necessary"
      ],
      "metadata": {
        "id": "JDWYwSE5seq0"
      }
    },
    {
      "cell_type": "code",
      "source": [
        "data['num_sentiment'].value_counts()"
      ],
      "metadata": {
        "colab": {
          "base_uri": "https://localhost:8080/"
        },
        "id": "AST0pnnTRXSp",
        "outputId": "6b8379c6-baea-4371-afe7-8b670dad2dab"
      },
      "execution_count": null,
      "outputs": [
        {
          "output_type": "execute_result",
          "data": {
            "text/plain": [
              "1    25000\n",
              "0    25000\n",
              "Name: num_sentiment, dtype: int64"
            ]
          },
          "metadata": {},
          "execution_count": 8
        }
      ]
    },
    {
      "cell_type": "markdown",
      "source": [
        "### Loading baseline models for generating embedding representation"
      ],
      "metadata": {
        "id": "oniiDcwws1Hq"
      }
    },
    {
      "cell_type": "code",
      "source": [
        "roberta_model = RobertaModel.from_pretrained('roberta-base')\n",
        "tokenizer = RobertaTokenizer.from_pretrained('roberta-base')"
      ],
      "metadata": {
        "colab": {
          "base_uri": "https://localhost:8080/",
          "height": 217,
          "referenced_widgets": [
            "2094ea4c668d4254855888b9363025d7",
            "70e3e72d663744e6a6d04471b4fa8e75",
            "e046f8e3db754a04ba914a313405f68f",
            "89542e0dcca144f68d5c53f5562b2dcc",
            "ac56c59e2b63469da2d7fd8e8a33d322",
            "2f13d45d6f784746bc1166fd87d183c5",
            "b16009212d7b4e3e98d595e8edd25fc0",
            "9b016f0a3f4e433d9835e7a207ad429f",
            "3fd708c3e49f4c33995d2de296cf2c70",
            "2238fb70c6404f7db4f65c422578591c",
            "2ce5037f3b3f40f28a2bd00a11765ad6",
            "5be4dd1896794d13ad460189ff59a465",
            "9b8b4ed716f545129acb7eb730593672",
            "dee9e667c4894f03ba0b62218a552e7d",
            "556da6e28df44c929270bdd105c8d0a4",
            "59f38461c1b84c18815f70f25c1cf705",
            "62530e8d0b044e73b0cfa92b22913fb4",
            "881cc90f77f043c2b107af7d8d6f602c",
            "698c6b03cc7f466fb1f14e3a7d3343fe",
            "7dce007dc64e4acf83b8a96966bfb622",
            "e1f209d0e6a142aea1c9e2b9ddd4531a",
            "7557d6be2b6e434caaa6c1a095f1673f",
            "cd819ec3bb8d432cacf53948bc9c888a",
            "8bc24389e7fd45f78574ba0f0d844206",
            "7353a05e62c448cd83a78005d5b3431a",
            "6c071464f77145b28cedce0a9dab518c",
            "4d7b896f2fd94fe3b0931f327671aa16",
            "c560a89dfdf847bea1fc99875ba7b99b",
            "683645d96e354bda8a6820ddfe806640",
            "22199d9dda0247e098b16437ce211cb9",
            "7552ae284a1441f4b243af84cd53414e",
            "c3d9b2f12e524034995126eddc6ef3ac",
            "b600d26791c94de4b20970b6990bf3d1",
            "6039751ff118466181fd4442a8c2cef7",
            "8e86a162ce244dd7b5c0f2cf4dbc5f7b",
            "1e385e4538c24c67b1e5692510b98cd9",
            "0f21e57e22eb48e0b8638a5d68ef0a3a",
            "6155bedc7db8498287e215b15c17d3c2",
            "bccd6e8f24494e518689e8d848f87b4f",
            "7c694f80fd4a4f4cbfc21af40ff30581",
            "6b498f5f021b447cba4b7418a8177895",
            "1e2ff54a64124dffa51a2a4684a3a6c4",
            "fff1132a666f463bb1d251d2d8347665",
            "7f08594d9fd84bfaaedc3eb6ea5a263a"
          ]
        },
        "id": "aqDB9D5EXfjk",
        "outputId": "3f90c42b-3f22-4075-c6bd-e266a59d5dd0"
      },
      "execution_count": null,
      "outputs": [
        {
          "output_type": "display_data",
          "data": {
            "text/plain": [
              "Downloading (…)lve/main/config.json:   0%|          | 0.00/481 [00:00<?, ?B/s]"
            ],
            "application/vnd.jupyter.widget-view+json": {
              "version_major": 2,
              "version_minor": 0,
              "model_id": "2094ea4c668d4254855888b9363025d7"
            }
          },
          "metadata": {}
        },
        {
          "output_type": "display_data",
          "data": {
            "text/plain": [
              "Downloading pytorch_model.bin:   0%|          | 0.00/501M [00:00<?, ?B/s]"
            ],
            "application/vnd.jupyter.widget-view+json": {
              "version_major": 2,
              "version_minor": 0,
              "model_id": "5be4dd1896794d13ad460189ff59a465"
            }
          },
          "metadata": {}
        },
        {
          "output_type": "stream",
          "name": "stderr",
          "text": [
            "Some weights of the model checkpoint at roberta-base were not used when initializing RobertaModel: ['lm_head.layer_norm.weight', 'lm_head.dense.bias', 'lm_head.bias', 'lm_head.layer_norm.bias', 'lm_head.dense.weight', 'lm_head.decoder.weight']\n",
            "- This IS expected if you are initializing RobertaModel from the checkpoint of a model trained on another task or with another architecture (e.g. initializing a BertForSequenceClassification model from a BertForPreTraining model).\n",
            "- This IS NOT expected if you are initializing RobertaModel from the checkpoint of a model that you expect to be exactly identical (initializing a BertForSequenceClassification model from a BertForSequenceClassification model).\n"
          ]
        },
        {
          "output_type": "display_data",
          "data": {
            "text/plain": [
              "Downloading (…)olve/main/vocab.json:   0%|          | 0.00/899k [00:00<?, ?B/s]"
            ],
            "application/vnd.jupyter.widget-view+json": {
              "version_major": 2,
              "version_minor": 0,
              "model_id": "cd819ec3bb8d432cacf53948bc9c888a"
            }
          },
          "metadata": {}
        },
        {
          "output_type": "display_data",
          "data": {
            "text/plain": [
              "Downloading (…)olve/main/merges.txt:   0%|          | 0.00/456k [00:00<?, ?B/s]"
            ],
            "application/vnd.jupyter.widget-view+json": {
              "version_major": 2,
              "version_minor": 0,
              "model_id": "6039751ff118466181fd4442a8c2cef7"
            }
          },
          "metadata": {}
        }
      ]
    },
    {
      "cell_type": "markdown",
      "source": [
        "### Example of review text, it's not clear and several preprocessing techniques will be applied\n",
        "\n",
        "- Tokenezation\n",
        "- Appling stemming to tokenized data\n",
        "- Removing stop words and most common words\n",
        "- Removing HTML tags and other junk data\n",
        "- Creating embedding representation"
      ],
      "metadata": {
        "id": "vjPZRS0ttFyX"
      }
    },
    {
      "cell_type": "code",
      "source": [
        "review_data = data['review'].tolist()\n",
        "review_data[0]"
      ],
      "metadata": {
        "id": "2FpJtwkbRsem",
        "colab": {
          "base_uri": "https://localhost:8080/",
          "height": 140
        },
        "outputId": "c769807c-9569-4304-8bf3-927daa890790"
      },
      "execution_count": null,
      "outputs": [
        {
          "output_type": "execute_result",
          "data": {
            "text/plain": [
              "\"One of the other reviewers has mentioned that after watching just 1 Oz episode you'll be hooked. They are right, as this is exactly what happened with me.<br /><br />The first thing that struck me about Oz was its brutality and unflinching scenes of violence, which set in right from the word GO. Trust me, this is not a show for the faint hearted or timid. This show pulls no punches with regards to drugs, sex or violence. Its is hardcore, in the classic use of the word.<br /><br />It is called OZ as that is the nickname given to the Oswald Maximum Security State Penitentary. It focuses mainly on Emerald City, an experimental section of the prison where all the cells have glass fronts and face inwards, so privacy is not high on the agenda. Em City is home to many..Aryans, Muslims, gangstas, Latinos, Christians, Italians, Irish and more....so scuffles, death stares, dodgy dealings and shady agreements are never far away.<br /><br />I would say the main appeal of the show is due to the fact that it goes where other shows wouldn't dare. Forget pretty pictures painted for mainstream audiences, forget charm, forget romance...OZ doesn't mess around. The first episode I ever saw struck me as so nasty it was surreal, I couldn't say I was ready for it, but as I watched more, I developed a taste for Oz, and got accustomed to the high levels of graphic violence. Not just violence, but injustice (crooked guards who'll be sold out for a nickel, inmates who'll kill on order and get away with it, well mannered, middle class inmates being turned into prison bitches due to their lack of street skills or prison experience) Watching Oz, you may become comfortable with what is uncomfortable viewing....thats if you can get in touch with your darker side.\""
            ],
            "application/vnd.google.colaboratory.intrinsic+json": {
              "type": "string"
            }
          },
          "metadata": {},
          "execution_count": 9
        }
      ]
    },
    {
      "cell_type": "markdown",
      "source": [
        "### Lowering"
      ],
      "metadata": {
        "id": "7lBDkf6uxnA-"
      }
    },
    {
      "cell_type": "code",
      "source": [
        "data['review'] = data['review'].str.lower()"
      ],
      "metadata": {
        "id": "Y6pouXbgvn6G"
      },
      "execution_count": 8,
      "outputs": []
    },
    {
      "cell_type": "markdown",
      "source": [
        "### Removing HTML tags"
      ],
      "metadata": {
        "id": "JM68qc25xqCM"
      }
    },
    {
      "cell_type": "code",
      "source": [
        "def remove_html_tags(text):\n",
        "    pattern = re.compile('<.*?>')\n",
        "    return pattern.sub(f'',text)"
      ],
      "metadata": {
        "id": "kDQjvQWtvoxS"
      },
      "execution_count": 10,
      "outputs": []
    },
    {
      "cell_type": "code",
      "source": [
        "data['review'] = data['review'].apply(remove_html_tags)\n",
        "data['review']"
      ],
      "metadata": {
        "colab": {
          "base_uri": "https://localhost:8080/"
        },
        "id": "vXnSlyj8vpUt",
        "outputId": "77377843-a5d4-49f8-929d-1e16f214b8d1"
      },
      "execution_count": 11,
      "outputs": [
        {
          "output_type": "execute_result",
          "data": {
            "text/plain": [
              "0        one of the other reviewers has mentioned that ...\n",
              "1        a wonderful little production. the filming tec...\n",
              "2        i thought this was a wonderful way to spend ti...\n",
              "3        basically there's a family where a little boy ...\n",
              "4        petter mattei's \"love in the time of money\" is...\n",
              "                               ...                        \n",
              "49995    i thought this movie did a down right good job...\n",
              "49996    bad plot, bad dialogue, bad acting, idiotic di...\n",
              "49997    i am a catholic taught in parochial elementary...\n",
              "49998    i'm going to have to disagree with the previou...\n",
              "49999    no one expects the star trek movies to be high...\n",
              "Name: review, Length: 50000, dtype: object"
            ]
          },
          "metadata": {},
          "execution_count": 11
        }
      ]
    },
    {
      "cell_type": "markdown",
      "source": [
        "### Cleaning pipeline"
      ],
      "metadata": {
        "id": "W6zGGTDNyfvb"
      }
    },
    {
      "cell_type": "code",
      "source": [
        "def clean_text(text):\n",
        "    # Remove HTML tags\n",
        "    text = re.sub('<.*?>', '', text)\n",
        "    # Remove non-alphabetic characters and convert to lowercase\n",
        "    text = re.sub('[^a-zA-Z]', ' ', text).lower()\n",
        "    # Tokenize the text\n",
        "    words = nltk.word_tokenize(text)\n",
        "    # Remove stopwords\n",
        "    words = [w for w in words if w not in stopwords.words('english')]\n",
        "    # Stem the words\n",
        "    stemmer = PorterStemmer()\n",
        "    words = [stemmer.stem(w) for w in words]\n",
        "    # Join the words back into a string\n",
        "    text = ' '.join(words)\n",
        "    return text"
      ],
      "metadata": {
        "id": "RUBsyxAkx9_t"
      },
      "execution_count": 12,
      "outputs": []
    },
    {
      "cell_type": "code",
      "source": [
        "data['review'] = data['review'].progress_apply(clean_text)"
      ],
      "metadata": {
        "id": "EXUI8N8Rx9lo"
      },
      "execution_count": null,
      "outputs": []
    },
    {
      "cell_type": "markdown",
      "source": [
        "### Encoding text to vector embeddings"
      ],
      "metadata": {
        "id": "CMPE51-hxvMH"
      }
    },
    {
      "cell_type": "code",
      "source": [
        "encoded_inputs = tokenizer(review_data, padding=True, truncation=True, return_tensors='pt')\n",
        "encoded_inputs"
      ],
      "metadata": {
        "id": "jZzY_hB9XfHO",
        "colab": {
          "base_uri": "https://localhost:8080/"
        },
        "outputId": "09d15392-febd-4bde-f8aa-c7b537b04468"
      },
      "execution_count": null,
      "outputs": [
        {
          "output_type": "execute_result",
          "data": {
            "text/plain": [
              "{'input_ids': tensor([[   0, 3762,    9,  ...,    1,    1,    1],\n",
              "        [   0,  250, 4613,  ...,    1,    1,    1],\n",
              "        [   0,  100,  802,  ...,    1,    1,    1],\n",
              "        ...,\n",
              "        [   0,  100,  524,  ...,    1,    1,    1],\n",
              "        [   0,  100,  437,  ...,    1,    1,    1],\n",
              "        [   0, 3084,   65,  ...,    1,    1,    1]]), 'attention_mask': tensor([[1, 1, 1,  ..., 0, 0, 0],\n",
              "        [1, 1, 1,  ..., 0, 0, 0],\n",
              "        [1, 1, 1,  ..., 0, 0, 0],\n",
              "        ...,\n",
              "        [1, 1, 1,  ..., 0, 0, 0],\n",
              "        [1, 1, 1,  ..., 0, 0, 0],\n",
              "        [1, 1, 1,  ..., 0, 0, 0]])}"
            ]
          },
          "metadata": {},
          "execution_count": 17
        }
      ]
    },
    {
      "cell_type": "code",
      "source": [
        "encoded_inputs['attention_mask'].shape"
      ],
      "metadata": {
        "colab": {
          "base_uri": "https://localhost:8080/"
        },
        "id": "nIYOQ41JR1ix",
        "outputId": "b61261f4-41bd-4ce7-f34c-9297fee552ca"
      },
      "execution_count": null,
      "outputs": [
        {
          "output_type": "execute_result",
          "data": {
            "text/plain": [
              "torch.Size([50000, 512])"
            ]
          },
          "metadata": {},
          "execution_count": 20
        }
      ]
    },
    {
      "cell_type": "markdown",
      "source": [
        "### Example of output of base model, these data will be used for LSTM module"
      ],
      "metadata": {
        "id": "gJ7w0WlNyu9Q"
      }
    },
    {
      "cell_type": "code",
      "source": [
        "out = model(encoded_inputs['input_ids'][0:2], attention_mask=encoded_inputs['attention_mask'][0:2])\n",
        "out"
      ],
      "metadata": {
        "colab": {
          "base_uri": "https://localhost:8080/"
        },
        "id": "x-hUtg_Uhcim",
        "outputId": "d516b8ca-9065-4846-a67c-680a09b08db6"
      },
      "execution_count": null,
      "outputs": [
        {
          "output_type": "execute_result",
          "data": {
            "text/plain": [
              "BaseModelOutputWithPoolingAndCrossAttentions(last_hidden_state=tensor([[[-0.0510,  0.0597, -0.0011,  ..., -0.0933,  0.0020, -0.0234],\n",
              "         [-0.1599,  0.1393,  0.1117,  ..., -0.0091, -0.0834,  0.3128],\n",
              "         [ 0.0560,  0.1997,  0.0652,  ..., -0.0647,  0.0694,  0.3582],\n",
              "         ...,\n",
              "         [-0.0523,  0.0640,  0.0309,  ..., -0.0750,  0.0560,  0.0862],\n",
              "         [-0.0523,  0.0640,  0.0309,  ..., -0.0750,  0.0560,  0.0862],\n",
              "         [-0.0523,  0.0640,  0.0309,  ..., -0.0750,  0.0560,  0.0862]],\n",
              "\n",
              "        [[-0.0706,  0.0689,  0.0088,  ..., -0.1082, -0.0283, -0.0280],\n",
              "         [-0.1744,  0.1866,  0.1022,  ...,  0.2073,  0.0831,  0.1631],\n",
              "         [ 0.0475,  0.6007,  0.2569,  ...,  0.7535,  0.2661, -0.0825],\n",
              "         ...,\n",
              "         [ 0.0028,  0.0085,  0.0527,  ..., -0.0068,  0.0331, -0.0192],\n",
              "         [ 0.0028,  0.0085,  0.0527,  ..., -0.0068,  0.0331, -0.0192],\n",
              "         [ 0.0028,  0.0085,  0.0527,  ..., -0.0068,  0.0331, -0.0192]]],\n",
              "       grad_fn=<NativeLayerNormBackward0>), pooler_output=tensor([[-0.0008, -0.2281, -0.2096,  ..., -0.2027, -0.0245, -0.1277],\n",
              "        [ 0.0137, -0.2134, -0.1796,  ..., -0.1583, -0.0528, -0.1092]],\n",
              "       grad_fn=<TanhBackward0>), hidden_states=None, past_key_values=None, attentions=None, cross_attentions=None)"
            ]
          },
          "metadata": {},
          "execution_count": 22
        }
      ]
    },
    {
      "cell_type": "code",
      "source": [
        "out.last_hidden_state.shape"
      ],
      "metadata": {
        "colab": {
          "base_uri": "https://localhost:8080/"
        },
        "id": "qpq7ZDCkhcLV",
        "outputId": "6d689196-3cf9-49f5-e167-962666feb886"
      },
      "execution_count": null,
      "outputs": [
        {
          "output_type": "execute_result",
          "data": {
            "text/plain": [
              "torch.Size([2, 512, 768])"
            ]
          },
          "metadata": {},
          "execution_count": 36
        }
      ]
    },
    {
      "cell_type": "markdown",
      "source": [
        "## Preparing data"
      ],
      "metadata": {
        "id": "CY85rtBDPiXO"
      }
    },
    {
      "cell_type": "code",
      "source": [
        "device = \"cuda\" if torch.cuda.is_available() else \"cpu\"\n",
        "print(\"Using {} device\".format(device))"
      ],
      "metadata": {
        "colab": {
          "base_uri": "https://localhost:8080/"
        },
        "id": "IQVm30M-Vfcd",
        "outputId": "08ac662d-4f41-426e-a12d-18cdbd180e23"
      },
      "execution_count": null,
      "outputs": [
        {
          "output_type": "stream",
          "name": "stdout",
          "text": [
            "Using cuda device\n"
          ]
        }
      ]
    },
    {
      "cell_type": "code",
      "source": [
        "class CleanData(Dataset):\n",
        "\n",
        "  def __tokenize(self):\n",
        "    review_data = self.X.tolist()\n",
        "    logger.info(\"strart tokenizing\")\n",
        "    return self.tokenizer(review_data, padding=True, truncation=True, return_tensors='pt')\n",
        "\n",
        "  def __init__(self, data: pd.DataFrame, tokenizer) -> None:\n",
        "    self.X = data['review'].iloc[:500]\n",
        "    self.y = torch.tensor(data['num_sentiment'].iloc[:500])\n",
        "    self.tokenizer = tokenizer\n",
        "    self.tokens = self.__tokenize()\n",
        "\n",
        "  def __len__(self) -> int:\n",
        "    return len(self.X)\n",
        "\n",
        "  def __getitem__(self, idx):\n",
        "    return self.X[idx], self.tokens.input_ids[idx], self.tokens.attention_mask[idx], self.y[idx]"
      ],
      "metadata": {
        "id": "hHv-O5vL1bOi"
      },
      "execution_count": null,
      "outputs": []
    },
    {
      "cell_type": "code",
      "source": [
        "clear_data = CleanData(data, tokenizer)"
      ],
      "metadata": {
        "id": "stl-TkeoXjMZ",
        "colab": {
          "base_uri": "https://localhost:8080/"
        },
        "outputId": "b32c22db-3948-4479-b66d-a1876ecd3071"
      },
      "execution_count": null,
      "outputs": [
        {
          "output_type": "stream",
          "name": "stderr",
          "text": [
            "\u001b[32m2023-04-21 16:39:05.755\u001b[0m | \u001b[1mINFO    \u001b[0m | \u001b[36m__main__\u001b[0m:\u001b[36m__tokenize\u001b[0m:\u001b[36m5\u001b[0m - \u001b[1mstrart tokenizing\u001b[0m\n"
          ]
        }
      ]
    },
    {
      "cell_type": "code",
      "source": [
        "batch_size = 16\n",
        "train_dataloader = DataLoader(clear_data, batch_size=batch_size, shuffle=True)"
      ],
      "metadata": {
        "id": "F57wutt5hgdy"
      },
      "execution_count": null,
      "outputs": []
    },
    {
      "cell_type": "markdown",
      "source": [
        "### Modeling"
      ],
      "metadata": {
        "id": "lVhjNYgK3l4W"
      }
    },
    {
      "cell_type": "code",
      "source": [
        "class RoBERTaLSTM(nn.Module):\n",
        "\n",
        "  def __init__(self,\n",
        "               roberta_model,\n",
        "               input_size: int,\n",
        "               hidden_size: int,\n",
        "               lstm_layers: int,\n",
        "               dropout: float,\n",
        "               output_size: int\n",
        "               ) -> None:\n",
        "    super(RoBERTaLSTM, self).__init__()\n",
        "    self.roberta_model = roberta_model\n",
        "    self.hidden_size = hidden_size\n",
        "    self.lstm_layers = lstm_layers\n",
        "\n",
        "    self.lstm_block = nn.LSTM(input_size, hidden_size, lstm_layers, batch_first=True)\n",
        "    self.drop_out_block = nn.Dropout(dropout)\n",
        "    self.linear_block = nn.Linear(hidden_size, output_size)\n",
        "    self.softmax = nn.Sigmoid()\n",
        "\n",
        "  def forward(self, x, att):\n",
        "    embedded_x = self.roberta_model(x, attention_mask=att)\n",
        "\n",
        "    h_0 = embedded_x.last_hidden_state[:, -1, :].contiguous().to(device)\n",
        "    c_0 = embedded_x.last_hidden_state[:, -1, :].contiguous().to(device)\n",
        "    lstm_out, _ = self.lstm_block(embedded_x.pooler_output, (h_0, c_0))\n",
        "    dropped_out = self.drop_out_block(lstm_out)\n",
        "    out = self.softmax(self.linear_block(dropped_out))\n",
        "    return out"
      ],
      "metadata": {
        "id": "DutHmdtv3kGE"
      },
      "execution_count": null,
      "outputs": []
    },
    {
      "cell_type": "code",
      "source": [
        "model = RoBERTaLSTM(roberta_model, 768, 768, 256, 0.5, 1)\n",
        "model.to(device)\n",
        "print(model)"
      ],
      "metadata": {
        "colab": {
          "base_uri": "https://localhost:8080/"
        },
        "id": "2qritcQGksI6",
        "outputId": "e1bb932d-482a-4ddf-f9b9-57b514827aa5"
      },
      "execution_count": null,
      "outputs": [
        {
          "output_type": "stream",
          "name": "stdout",
          "text": [
            "RoBERTaLSTM(\n",
            "  (roberta_model): RobertaModel(\n",
            "    (embeddings): RobertaEmbeddings(\n",
            "      (word_embeddings): Embedding(50265, 768, padding_idx=1)\n",
            "      (position_embeddings): Embedding(514, 768, padding_idx=1)\n",
            "      (token_type_embeddings): Embedding(1, 768)\n",
            "      (LayerNorm): LayerNorm((768,), eps=1e-05, elementwise_affine=True)\n",
            "      (dropout): Dropout(p=0.1, inplace=False)\n",
            "    )\n",
            "    (encoder): RobertaEncoder(\n",
            "      (layer): ModuleList(\n",
            "        (0-11): 12 x RobertaLayer(\n",
            "          (attention): RobertaAttention(\n",
            "            (self): RobertaSelfAttention(\n",
            "              (query): Linear(in_features=768, out_features=768, bias=True)\n",
            "              (key): Linear(in_features=768, out_features=768, bias=True)\n",
            "              (value): Linear(in_features=768, out_features=768, bias=True)\n",
            "              (dropout): Dropout(p=0.1, inplace=False)\n",
            "            )\n",
            "            (output): RobertaSelfOutput(\n",
            "              (dense): Linear(in_features=768, out_features=768, bias=True)\n",
            "              (LayerNorm): LayerNorm((768,), eps=1e-05, elementwise_affine=True)\n",
            "              (dropout): Dropout(p=0.1, inplace=False)\n",
            "            )\n",
            "          )\n",
            "          (intermediate): RobertaIntermediate(\n",
            "            (dense): Linear(in_features=768, out_features=3072, bias=True)\n",
            "            (intermediate_act_fn): GELUActivation()\n",
            "          )\n",
            "          (output): RobertaOutput(\n",
            "            (dense): Linear(in_features=3072, out_features=768, bias=True)\n",
            "            (LayerNorm): LayerNorm((768,), eps=1e-05, elementwise_affine=True)\n",
            "            (dropout): Dropout(p=0.1, inplace=False)\n",
            "          )\n",
            "        )\n",
            "      )\n",
            "    )\n",
            "    (pooler): RobertaPooler(\n",
            "      (dense): Linear(in_features=768, out_features=768, bias=True)\n",
            "      (activation): Tanh()\n",
            "    )\n",
            "  )\n",
            "  (lstm_block): LSTM(768, 768, num_layers=2, batch_first=True)\n",
            "  (drop_out_block): Dropout(p=0.5, inplace=False)\n",
            "  (linear_block): Linear(in_features=768, out_features=1, bias=True)\n",
            "  (activate): ReLU()\n",
            "  (softmax): Sigmoid()\n",
            ")\n"
          ]
        }
      ]
    },
    {
      "cell_type": "markdown",
      "source": [
        "## Training"
      ],
      "metadata": {
        "id": "sgkO-_cGPgMR"
      }
    },
    {
      "cell_type": "code",
      "source": [
        "loss_fn = nn.CrossEntropyLoss()\n",
        "optimizer = torch.optim.Adam(model.parameters(), lr=1e-4)"
      ],
      "metadata": {
        "id": "8YIbHAS8nCS7"
      },
      "execution_count": null,
      "outputs": []
    },
    {
      "cell_type": "code",
      "source": [
        "# Training logs\n",
        "interval = 10\n",
        "train_ts, train_loss = [], []\n",
        "val_ts, val_loss, val_acc = [], [], []"
      ],
      "metadata": {
        "id": "zdoB3aNg6OhS"
      },
      "execution_count": null,
      "outputs": []
    },
    {
      "cell_type": "code",
      "source": [
        "def show_progress(t):\n",
        "    clear_output(wait=True)\n",
        "    fig, (ax1, ax2) = plt.subplots(1, 2, constrained_layout=True, figsize=(20, 5))\n",
        "    fig.suptitle(f'Epoch {t:3.3f}', fontsize=16)\n",
        "    ax1.set_title('loss')\n",
        "    ax1.set_xlabel('time (epochs)')\n",
        "    ax1.set_ylabel('loss')\n",
        "    ax1.plot(train_ts, train_loss, c='darkblue', lw=3)\n",
        "    ax1.plot(val_ts, val_loss, c='green', marker='o', lw=5)\n",
        "    ax2.set_title('accuracy')\n",
        "    ax2.set_xlabel('time (epochs)')\n",
        "    ax2.plot(val_ts, val_acc, c='green', marker='o', lw=5)\n",
        "    plt.show() "
      ],
      "metadata": {
        "id": "5imwXj0J6ONg"
      },
      "execution_count": null,
      "outputs": []
    },
    {
      "cell_type": "code",
      "source": [
        "def train(epoch, dataloader, model, loss_fn, optimizer):\n",
        "    model.train()\n",
        "    num_batches = len(dataloader)\n",
        "    for batch, (_, X, att, y) in enumerate(dataloader):\n",
        "        # Send data to training device\n",
        "        X, att, y = X.to(device), att.to(device), y.to(device)\n",
        "        # Compute prediction error\n",
        "        pred = model(X, att)\n",
        "        loss = loss_fn(pred, y)\n",
        "        # Backpropagation\n",
        "        optimizer.zero_grad()\n",
        "        loss.backward()\n",
        "        optimizer.step()\n",
        "        # Progress output\n",
        "        if batch % interval == 0:\n",
        "            t = epoch + (batch + 1)/num_batches\n",
        "            train_ts.append(t)\n",
        "            train_loss.append(loss.item())\n",
        "            show_progress(t)"
      ],
      "metadata": {
        "id": "y9cR_a_xff-e"
      },
      "execution_count": null,
      "outputs": []
    },
    {
      "cell_type": "code",
      "source": [
        "def test(epoch, dataloader, model, loss_fn):\n",
        "    model.eval()\n",
        "    num_batches = len(dataloader)\n",
        "    size = len(dataloader.dataset)\n",
        "    test_loss, correct = 0, 0\n",
        "    with torch.no_grad():\n",
        "        for _, X, att, y in dataloader:\n",
        "            X, att, y = X.to(device), att.to(device), y.to(device)\n",
        "            pred = model(X, att)\n",
        "            test_loss += loss_fn(pred, y).item()\n",
        "            correct += (pred.argmax(1) == y).type(torch.float).sum().item()\n",
        "    test_loss /= num_batches\n",
        "    correct /= size\n",
        "    val_ts.append(epoch+1)\n",
        "    val_loss.append(test_loss)\n",
        "    val_acc.append(correct)\n",
        "    show_progress(epoch+1)"
      ],
      "metadata": {
        "id": "k5qgovpiflWW"
      },
      "execution_count": null,
      "outputs": []
    },
    {
      "cell_type": "code",
      "source": [
        "train(10, dataloader, model, loss_fn, optimizer)"
      ],
      "metadata": {
        "id": "OtFmExpar6Wg",
        "colab": {
          "base_uri": "https://localhost:8080/",
          "height": 432,
          "referenced_widgets": [
            "3edd71eacfff40f8a8128d7281dba51e",
            "e9a2c7ab8e884a269ea6e6d53e4b7967",
            "7291bea3cba54d5c9c7b519b7c7a42d0",
            "8716ad3a50be4f28942ce338846706dd",
            "4414f9945b6b4957b7b77750f3690be1",
            "fa973930acab4bc2a17f52ff2ba970fe",
            "ac4cba8ff8fe4d0ab5592e50f31511dd",
            "16a0ae64a62d4f35ad986acce6945fc6",
            "fbdc8b6084a44bd48a0a2ba0814178cf",
            "f9a77c9256b64386a203a64f9c466037",
            "0a4e21303b13499eaf29ed0ff0bd8e9e",
            "29bbf02145eb4858ae06ef90e737be57",
            "274d1ea301a841dfac5dc685dec4b40b",
            "5d57cc4c9e3b4793b2d77db435850a4e",
            "a504806629e44048ad491217917ff5b2",
            "327e86db45cd4d1da385f44b44093b70",
            "78c06fff319d4c449eabeaf7cae438eb",
            "ee09b9b6c7604f3da81bdfb2b31e7c8f",
            "5815a7d4a7cc494eb364ab40182fad7e",
            "a12602d1cc574ddbb352925698f97423",
            "d794ce5c120145b2ad11da6e05bed15f",
            "0c8188ba69c44b89b17cd936164cc98a",
            "8f13a92468de4b09871744ee10ddbcda",
            "47e21dfe0ffa496fa707d550d960f1e8",
            "73b746d89b8b4f6493432aa3634e867d",
            "1254bd0afc304b138fc5ee7d7690c580",
            "affb1077f4cd4dac89e411092f49dd8c",
            "4a03443206264d1c9fbf9d3ca97a9b22",
            "8b3a827df8d94c7e9502aa823722c75c",
            "f69e22d743f444fab819649bf1331115",
            "5d423742d083468f851441ab41b901ac",
            "29b1354a051e41d988dded33ede7f2a6",
            "e37f6c1b90b6475fad7c14b2c8dbe6dd"
          ]
        },
        "outputId": "cfdea2a6-c642-4362-9b1e-513c80556ab1"
      },
      "execution_count": null,
      "outputs": [
        {
          "output_type": "stream",
          "name": "stderr",
          "text": [
            "WARNING:datasets.builder:Found cached dataset imdb (/root/.cache/huggingface/datasets/imdb/plain_text/1.0.0/d613c88cf8fa3bab83b4ded3713f1f74830d1100e171db75bbddb80b3345c9c0)\n"
          ]
        },
        {
          "output_type": "display_data",
          "data": {
            "text/plain": [
              "  0%|          | 0/3 [00:00<?, ?it/s]"
            ],
            "application/vnd.jupyter.widget-view+json": {
              "version_major": 2,
              "version_minor": 0,
              "model_id": "3edd71eacfff40f8a8128d7281dba51e"
            }
          },
          "metadata": {}
        },
        {
          "output_type": "stream",
          "name": "stderr",
          "text": [
            "Some weights of the model checkpoint at bert-base-uncased were not used when initializing BertForSequenceClassification: ['cls.predictions.decoder.weight', 'cls.seq_relationship.weight', 'cls.predictions.bias', 'cls.predictions.transform.dense.weight', 'cls.predictions.transform.LayerNorm.bias', 'cls.seq_relationship.bias', 'cls.predictions.transform.dense.bias', 'cls.predictions.transform.LayerNorm.weight']\n",
            "- This IS expected if you are initializing BertForSequenceClassification from the checkpoint of a model trained on another task or with another architecture (e.g. initializing a BertForSequenceClassification model from a BertForPreTraining model).\n",
            "- This IS NOT expected if you are initializing BertForSequenceClassification from the checkpoint of a model that you expect to be exactly identical (initializing a BertForSequenceClassification model from a BertForSequenceClassification model).\n",
            "Some weights of BertForSequenceClassification were not initialized from the model checkpoint at bert-base-uncased and are newly initialized: ['classifier.bias', 'classifier.weight']\n",
            "You should probably TRAIN this model on a down-stream task to be able to use it for predictions and inference.\n"
          ]
        },
        {
          "output_type": "display_data",
          "data": {
            "text/plain": [
              "Map:   0%|          | 0/4000 [00:00<?, ? examples/s]"
            ],
            "application/vnd.jupyter.widget-view+json": {
              "version_major": 2,
              "version_minor": 0,
              "model_id": "29bbf02145eb4858ae06ef90e737be57"
            }
          },
          "metadata": {}
        },
        {
          "output_type": "display_data",
          "data": {
            "text/plain": [
              "Map:   0%|          | 0/2000 [00:00<?, ? examples/s]"
            ],
            "application/vnd.jupyter.widget-view+json": {
              "version_major": 2,
              "version_minor": 0,
              "model_id": "8f13a92468de4b09871744ee10ddbcda"
            }
          },
          "metadata": {}
        },
        {
          "output_type": "display_data",
          "data": {
            "text/plain": [
              "<IPython.core.display.HTML object>"
            ],
            "text/html": [
              "\n",
              "    <div>\n",
              "      \n",
              "      <progress value='750' max='750' style='width:300px; height:20px; vertical-align: middle;'></progress>\n",
              "      [750/750 21:51, Epoch 3/3]\n",
              "    </div>\n",
              "    <table border=\"1\" class=\"dataframe\">\n",
              "  <thead>\n",
              " <tr style=\"text-align: left;\">\n",
              "      <th>Epoch</th>\n",
              "      <th>Training Loss</th>\n",
              "      <th>Validation Loss</th>\n",
              "    </tr>\n",
              "  </thead>\n",
              "  <tbody>\n",
              "    <tr>\n",
              "      <td>1</td>\n",
              "      <td>No log</td>\n",
              "      <td>0.000169</td>\n",
              "    </tr>\n",
              "    <tr>\n",
              "      <td>2</td>\n",
              "      <td>0.009100</td>\n",
              "      <td>0.000073</td>\n",
              "    </tr>\n",
              "    <tr>\n",
              "      <td>3</td>\n",
              "      <td>0.009100</td>\n",
              "      <td>0.000058</td>\n",
              "    </tr>\n",
              "  </tbody>\n",
              "</table><p>"
            ]
          },
          "metadata": {}
        },
        {
          "output_type": "display_data",
          "data": {
            "text/plain": [
              "<IPython.core.display.HTML object>"
            ],
            "text/html": [
              "\n",
              "    <div>\n",
              "      \n",
              "      <progress value='125' max='125' style='width:300px; height:20px; vertical-align: middle;'></progress>\n",
              "      [125/125 01:05]\n",
              "    </div>\n",
              "    "
            ]
          },
          "metadata": {}
        },
        {
          "output_type": "execute_result",
          "data": {
            "text/plain": [
              "{'eval_loss': 5.846978092449717e-05,\n",
              " 'eval_runtime': 65.906,\n",
              " 'eval_samples_per_second': 30.346,\n",
              " 'eval_steps_per_second': 1.897,\n",
              " 'epoch': 3.0}"
            ]
          },
          "metadata": {},
          "execution_count": 3
        }
      ]
    },
    {
      "cell_type": "markdown",
      "source": [
        "### Result are simmilar to author's one in a paper"
      ],
      "metadata": {
        "id": "EvBkne4GzgWj"
      }
    },
    {
      "cell_type": "markdown",
      "source": [
        "![image.png](data:image/png;base64,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)"
      ],
      "metadata": {
        "id": "0AlGCEMtzel0"
      }
    }
  ]
}